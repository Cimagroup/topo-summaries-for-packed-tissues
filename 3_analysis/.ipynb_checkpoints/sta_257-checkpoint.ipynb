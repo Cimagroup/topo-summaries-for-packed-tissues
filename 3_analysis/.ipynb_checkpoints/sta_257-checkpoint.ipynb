{
 "cells": [
  {
   "cell_type": "markdown",
   "metadata": {},
   "source": [
    "# Experiments with 257 cells"
   ]
  },
  {
   "cell_type": "markdown",
   "metadata": {},
   "source": [
    "## Differences between Epithelial Tissues"
   ]
  },
  {
   "cell_type": "markdown",
   "metadata": {},
   "source": [
    "We would like to see if there are significant differences between the distributions followed by these variables in each of the epithelial tissues. In order to do that, we first perform a Kruskal-Wallis test over the six tissues for each of the variables, and then a pairwise Dunn test. Sice we repeat this test over 22 variables, we have fixed the p-value threshold in 0.01."
   ]
  },
  {
   "cell_type": "markdown",
   "metadata": {},
   "source": [
    "#### Kruskal-Wallis pvalues"
   ]
  },
  {
   "cell_type": "markdown",
   "metadata": {},
   "source": [
    "We are calculating the p-values from the Kruskal-Wallis test. First, we load the frame"
   ]
  },
  {
   "cell_type": "code",
   "execution_count": 1,
   "metadata": {},
   "outputs": [
    {
     "name": "stderr",
     "output_type": "stream",
     "text": [
      "Loading required package: dunn.test\n"
     ]
    }
   ],
   "source": [
    "require(\"dunn.test\")\n",
    "cellNumber <- 257\n",
    "load(paste(\"../2_variables/frames\",as.character(cellNumber), \"cells_frame.RData\", sep=\"/\"))\n",
    "colNames <- colnames(cells_frame)"
   ]
  },
  {
   "cell_type": "markdown",
   "metadata": {},
   "source": [
    "and save the pvalues in an array"
   ]
  },
  {
   "cell_type": "code",
   "execution_count": 2,
   "metadata": {},
   "outputs": [],
   "source": [
    "KWpvalue <- c()\n",
    "for (j in seq(2,length(cells_frame))){\n",
    "  colName <- colNames[j]\n",
    "  kwAux <- as.numeric(kruskal.test(cells_frame[,colName] ~ cells_frame$type)[3])\n",
    "  KWpvalue <- c(KWpvalue, kwAux)\n",
    "    }"
   ]
  },
  {
   "cell_type": "markdown",
   "metadata": {},
   "source": [
    "The variables whith a p-value greater or equal than 0.01 are"
   ]
  },
  {
   "cell_type": "code",
   "execution_count": 3,
   "metadata": {},
   "outputs": [
    {
     "data": {
      "text/html": [
       "<ol class=list-inline>\n",
       "\t<li>'PE.0.sub'</li>\n",
       "\t<li>'PE.1.sub'</li>\n",
       "\t<li>'landscape.0.2.sub'</li>\n",
       "\t<li>'landscape.0.5.sub'</li>\n",
       "\t<li>'lan.0.05.sub'</li>\n",
       "\t<li>'lan.0.10.sub'</li>\n",
       "\t<li>'lan.0.15.sub'</li>\n",
       "\t<li>'landscape.1.1.sub'</li>\n",
       "\t<li>'landscape.1.2.sub'</li>\n",
       "\t<li>'max.0.1.2.sub'</li>\n",
       "\t<li>'max.0.1.3.sub'</li>\n",
       "\t<li>'max.0.2.1.sub'</li>\n",
       "\t<li>'max.0.2.2.sub'</li>\n",
       "\t<li>'max.0.2.3.sub'</li>\n",
       "\t<li>'MAX.0.2.10.sub'</li>\n",
       "\t<li>'max.1.1.1.sub'</li>\n",
       "\t<li>'max.1.2.1.sub'</li>\n",
       "\t<li>'max.1.1.2.sub'</li>\n",
       "\t<li>'MAX.1.1.02.sub'</li>\n",
       "\t<li>'MAX.1.1.03.sub'</li>\n",
       "\t<li>'PE.1.sup'</li>\n",
       "\t<li>'landscape.0.2.sup'</li>\n",
       "\t<li>'lan.0.02.sup'</li>\n",
       "\t<li>'landscape.1.1.sup'</li>\n",
       "\t<li>'landscape.1.2.sup'</li>\n",
       "\t<li>'lan.1.02.sup'</li>\n",
       "\t<li>'max.0.1.1.sup'</li>\n",
       "\t<li>'max.0.1.2.sup'</li>\n",
       "\t<li>'MAX.0.1.02.sup'</li>\n",
       "\t<li>'max.0.2.1.sup'</li>\n",
       "\t<li>'max.0.2.2.sup'</li>\n",
       "\t<li>'MAX.0.2.02.sup'</li>\n",
       "\t<li>'max.1.1.1.sup'</li>\n",
       "\t<li>'max.1.2.1.sup'</li>\n",
       "\t<li>'MAX.1.2.02.sup'</li>\n",
       "\t<li>'MAX.1.2.02.sup.1'</li>\n",
       "\t<li>'PE.0.rips'</li>\n",
       "\t<li>'len.1'</li>\n",
       "\t<li>'len.2'</li>\n",
       "\t<li>'len.5'</li>\n",
       "\t<li>'LEN.15'</li>\n",
       "\t<li>'LEN.20'</li>\n",
       "\t<li>'max.0.1.1.rips'</li>\n",
       "\t<li>'LEN.05'</li>\n",
       "\t<li>'LEN.10'</li>\n",
       "\t<li>'max.0.1.2.rips'</li>\n",
       "\t<li>'max.0.1.3.rips'</li>\n",
       "\t<li>'MAX.0.1.05.rips'</li>\n",
       "\t<li>'MAX.0.1.10.rips'</li>\n",
       "\t<li>'MAX.0.1.20.rips'</li>\n",
       "\t<li>'MAX.0.1.50.rips'</li>\n",
       "</ol>\n"
      ],
      "text/latex": [
       "\\begin{enumerate*}\n",
       "\\item 'PE.0.sub'\n",
       "\\item 'PE.1.sub'\n",
       "\\item 'landscape.0.2.sub'\n",
       "\\item 'landscape.0.5.sub'\n",
       "\\item 'lan.0.05.sub'\n",
       "\\item 'lan.0.10.sub'\n",
       "\\item 'lan.0.15.sub'\n",
       "\\item 'landscape.1.1.sub'\n",
       "\\item 'landscape.1.2.sub'\n",
       "\\item 'max.0.1.2.sub'\n",
       "\\item 'max.0.1.3.sub'\n",
       "\\item 'max.0.2.1.sub'\n",
       "\\item 'max.0.2.2.sub'\n",
       "\\item 'max.0.2.3.sub'\n",
       "\\item 'MAX.0.2.10.sub'\n",
       "\\item 'max.1.1.1.sub'\n",
       "\\item 'max.1.2.1.sub'\n",
       "\\item 'max.1.1.2.sub'\n",
       "\\item 'MAX.1.1.02.sub'\n",
       "\\item 'MAX.1.1.03.sub'\n",
       "\\item 'PE.1.sup'\n",
       "\\item 'landscape.0.2.sup'\n",
       "\\item 'lan.0.02.sup'\n",
       "\\item 'landscape.1.1.sup'\n",
       "\\item 'landscape.1.2.sup'\n",
       "\\item 'lan.1.02.sup'\n",
       "\\item 'max.0.1.1.sup'\n",
       "\\item 'max.0.1.2.sup'\n",
       "\\item 'MAX.0.1.02.sup'\n",
       "\\item 'max.0.2.1.sup'\n",
       "\\item 'max.0.2.2.sup'\n",
       "\\item 'MAX.0.2.02.sup'\n",
       "\\item 'max.1.1.1.sup'\n",
       "\\item 'max.1.2.1.sup'\n",
       "\\item 'MAX.1.2.02.sup'\n",
       "\\item 'MAX.1.2.02.sup.1'\n",
       "\\item 'PE.0.rips'\n",
       "\\item 'len.1'\n",
       "\\item 'len.2'\n",
       "\\item 'len.5'\n",
       "\\item 'LEN.15'\n",
       "\\item 'LEN.20'\n",
       "\\item 'max.0.1.1.rips'\n",
       "\\item 'LEN.05'\n",
       "\\item 'LEN.10'\n",
       "\\item 'max.0.1.2.rips'\n",
       "\\item 'max.0.1.3.rips'\n",
       "\\item 'MAX.0.1.05.rips'\n",
       "\\item 'MAX.0.1.10.rips'\n",
       "\\item 'MAX.0.1.20.rips'\n",
       "\\item 'MAX.0.1.50.rips'\n",
       "\\end{enumerate*}\n"
      ],
      "text/markdown": [
       "1. 'PE.0.sub'\n",
       "2. 'PE.1.sub'\n",
       "3. 'landscape.0.2.sub'\n",
       "4. 'landscape.0.5.sub'\n",
       "5. 'lan.0.05.sub'\n",
       "6. 'lan.0.10.sub'\n",
       "7. 'lan.0.15.sub'\n",
       "8. 'landscape.1.1.sub'\n",
       "9. 'landscape.1.2.sub'\n",
       "10. 'max.0.1.2.sub'\n",
       "11. 'max.0.1.3.sub'\n",
       "12. 'max.0.2.1.sub'\n",
       "13. 'max.0.2.2.sub'\n",
       "14. 'max.0.2.3.sub'\n",
       "15. 'MAX.0.2.10.sub'\n",
       "16. 'max.1.1.1.sub'\n",
       "17. 'max.1.2.1.sub'\n",
       "18. 'max.1.1.2.sub'\n",
       "19. 'MAX.1.1.02.sub'\n",
       "20. 'MAX.1.1.03.sub'\n",
       "21. 'PE.1.sup'\n",
       "22. 'landscape.0.2.sup'\n",
       "23. 'lan.0.02.sup'\n",
       "24. 'landscape.1.1.sup'\n",
       "25. 'landscape.1.2.sup'\n",
       "26. 'lan.1.02.sup'\n",
       "27. 'max.0.1.1.sup'\n",
       "28. 'max.0.1.2.sup'\n",
       "29. 'MAX.0.1.02.sup'\n",
       "30. 'max.0.2.1.sup'\n",
       "31. 'max.0.2.2.sup'\n",
       "32. 'MAX.0.2.02.sup'\n",
       "33. 'max.1.1.1.sup'\n",
       "34. 'max.1.2.1.sup'\n",
       "35. 'MAX.1.2.02.sup'\n",
       "36. 'MAX.1.2.02.sup.1'\n",
       "37. 'PE.0.rips'\n",
       "38. 'len.1'\n",
       "39. 'len.2'\n",
       "40. 'len.5'\n",
       "41. 'LEN.15'\n",
       "42. 'LEN.20'\n",
       "43. 'max.0.1.1.rips'\n",
       "44. 'LEN.05'\n",
       "45. 'LEN.10'\n",
       "46. 'max.0.1.2.rips'\n",
       "47. 'max.0.1.3.rips'\n",
       "48. 'MAX.0.1.05.rips'\n",
       "49. 'MAX.0.1.10.rips'\n",
       "50. 'MAX.0.1.20.rips'\n",
       "51. 'MAX.0.1.50.rips'\n",
       "\n",
       "\n"
      ],
      "text/plain": [
       " [1] \"PE.0.sub\"          \"PE.1.sub\"          \"landscape.0.2.sub\"\n",
       " [4] \"landscape.0.5.sub\" \"lan.0.05.sub\"      \"lan.0.10.sub\"     \n",
       " [7] \"lan.0.15.sub\"      \"landscape.1.1.sub\" \"landscape.1.2.sub\"\n",
       "[10] \"max.0.1.2.sub\"     \"max.0.1.3.sub\"     \"max.0.2.1.sub\"    \n",
       "[13] \"max.0.2.2.sub\"     \"max.0.2.3.sub\"     \"MAX.0.2.10.sub\"   \n",
       "[16] \"max.1.1.1.sub\"     \"max.1.2.1.sub\"     \"max.1.1.2.sub\"    \n",
       "[19] \"MAX.1.1.02.sub\"    \"MAX.1.1.03.sub\"    \"PE.1.sup\"         \n",
       "[22] \"landscape.0.2.sup\" \"lan.0.02.sup\"      \"landscape.1.1.sup\"\n",
       "[25] \"landscape.1.2.sup\" \"lan.1.02.sup\"      \"max.0.1.1.sup\"    \n",
       "[28] \"max.0.1.2.sup\"     \"MAX.0.1.02.sup\"    \"max.0.2.1.sup\"    \n",
       "[31] \"max.0.2.2.sup\"     \"MAX.0.2.02.sup\"    \"max.1.1.1.sup\"    \n",
       "[34] \"max.1.2.1.sup\"     \"MAX.1.2.02.sup\"    \"MAX.1.2.02.sup.1\" \n",
       "[37] \"PE.0.rips\"         \"len.1\"             \"len.2\"            \n",
       "[40] \"len.5\"             \"LEN.15\"            \"LEN.20\"           \n",
       "[43] \"max.0.1.1.rips\"    \"LEN.05\"            \"LEN.10\"           \n",
       "[46] \"max.0.1.2.rips\"    \"max.0.1.3.rips\"    \"MAX.0.1.05.rips\"  \n",
       "[49] \"MAX.0.1.10.rips\"   \"MAX.0.1.20.rips\"   \"MAX.0.1.50.rips\"  "
      ]
     },
     "metadata": {},
     "output_type": "display_data"
    }
   ],
   "source": [
    "#Note the first entry in colNames is type and we do not want to take it.\n",
    "colNames[c(FALSE,KWpvalue<=0.01)]\n",
    "validCols <- colNames[c(FALSE, KWpvalue<=0.01)]"
   ]
  },
  {
   "cell_type": "markdown",
   "metadata": {},
   "source": [
    "The variables with a p-value greater than 0.01 are"
   ]
  },
  {
   "cell_type": "code",
   "execution_count": 4,
   "metadata": {},
   "outputs": [
    {
     "data": {
      "text/html": [
       "<ol class=list-inline>\n",
       "\t<li>'lan.1.03.sub'</li>\n",
       "\t<li>'lan.1.05.sub'</li>\n",
       "\t<li>'max.0.1.1.sub'</li>\n",
       "\t<li>'PE.0.sup'</li>\n",
       "\t<li>'lan.0.03.sup'</li>\n",
       "\t<li>'LEN.50'</li>\n",
       "</ol>\n"
      ],
      "text/latex": [
       "\\begin{enumerate*}\n",
       "\\item 'lan.1.03.sub'\n",
       "\\item 'lan.1.05.sub'\n",
       "\\item 'max.0.1.1.sub'\n",
       "\\item 'PE.0.sup'\n",
       "\\item 'lan.0.03.sup'\n",
       "\\item 'LEN.50'\n",
       "\\end{enumerate*}\n"
      ],
      "text/markdown": [
       "1. 'lan.1.03.sub'\n",
       "2. 'lan.1.05.sub'\n",
       "3. 'max.0.1.1.sub'\n",
       "4. 'PE.0.sup'\n",
       "5. 'lan.0.03.sup'\n",
       "6. 'LEN.50'\n",
       "\n",
       "\n"
      ],
      "text/plain": [
       "[1] \"lan.1.03.sub\"  \"lan.1.05.sub\"  \"max.0.1.1.sub\" \"PE.0.sup\"     \n",
       "[5] \"lan.0.03.sup\"  \"LEN.50\"       "
      ]
     },
     "metadata": {},
     "output_type": "display_data"
    }
   ],
   "source": [
    "#Note the first entry in colNames is type and we do not want to take it.\n",
    "colNames[c(FALSE,KWpvalue>0.01)]"
   ]
  },
  {
   "cell_type": "markdown",
   "metadata": {},
   "source": [
    "There are none variables with p-value greater than 0.01"
   ]
  },
  {
   "cell_type": "markdown",
   "metadata": {},
   "source": [
    "#### Dunn Test"
   ]
  },
  {
   "cell_type": "markdown",
   "metadata": {},
   "source": [
    "We run the Dunn test to compare pairwise the tissues."
   ]
  },
  {
   "cell_type": "code",
   "execution_count": 5,
   "metadata": {},
   "outputs": [
    {
     "ename": "ERROR",
     "evalue": "Error in factor(rep(1:4, c(length(x1), length(x2), length(x3), length(x4))), : invalid 'labels'; length 4 should be 1 or 3\n",
     "output_type": "error",
     "traceback": [
      "Error in factor(rep(1:4, c(length(x1), length(x2), length(x3), length(x4))), : invalid 'labels'; length 4 should be 1 or 3\nTraceback:\n",
      "1. factor(rep(1:4, c(length(x1), length(x2), length(x3), length(x4))), \n .     labels = c(\"cNT\", \"dWL\", \"dWP\", \"dNP\"))",
      "2. stop(gettextf(\"invalid 'labels'; length %d should be 1 or %d\", \n .     nlab, length(levels)), domain = NA)"
     ]
    }
   ],
   "source": [
    "\n",
    "colNames <- colnames(cells_frame)\n",
    "\n",
    "# we perform the first dunn test before the loop to set the row names\n",
    "colName <- colNames[2]\n",
    "x1 <- cells_frame[cells_frame$type == 'cNT', colName]\n",
    "x2 <- cells_frame[cells_frame$type == 'dWL', colName]\n",
    "x3 <- cells_frame[cells_frame$type == 'dWP', colName]\n",
    "x4 <- cells_frame[cells_frame$type == 'dNP', colName]\n",
    "w <- c(x1, x2, x3, x4)\n",
    "g <- factor(rep(1:4, c(length(x1),length(x2),length(x3),length(x4))),\n",
    "            labels = c(\"cNT\",\"dWL\",\"dWP\",'dNP'))\n",
    "\n",
    "P <- dunn.test(w, g)\n",
    "\n",
    "Pvalues <- data.frame(P$P.adjusted)\n",
    "colnames(Pvalues) <- c(colNames[2])\n",
    "row.names(Pvalues) <- P[[\"comparisons\"]]\n",
    "\n",
    "for (j in seq(3,length(cells_frame))){\n",
    "  colName <- colNames[j]\n",
    "  x1 <- cells_frame[cells_frame$type == 'cNT', colName]\n",
    "  x2 <- cells_frame[cells_frame$type == 'dWL', colName]\n",
    "  x3 <- cells_frame[cells_frame$type == 'dWP', colName]\n",
    "  x4 <- cells_frame[cells_frame$type == 'dNP', colName]\n",
    "  w <- c(x1, x2, x3, x4)\n",
    "  g <- factor(rep(1:4, c(length(x1),length(x2),length(x3),length(x4))),\n",
    "              labels = c(\"cNT\",\"dWL\",\"dWP\",'dNP'))\n",
    "    \n",
    "  P <- dunn.test(w, g)\n",
    "  Pvalues[colName] <- P$P.adjusted\n",
    "}"
   ]
  },
  {
   "cell_type": "markdown",
   "metadata": {},
   "source": [
    "We only consider the variables with a p-value greater than 0.01 in the Kruskal-Wallis test"
   ]
  },
  {
   "cell_type": "code",
   "execution_count": null,
   "metadata": {},
   "outputs": [],
   "source": [
    "cols <- colnames(Pvalues)%in%validCols"
   ]
  },
  {
   "cell_type": "markdown",
   "metadata": {},
   "source": [
    "##### Summary:"
   ]
  },
  {
   "cell_type": "markdown",
   "metadata": {},
   "source": [
    "- cEE is differentiated from cNT only by the network distribution, and from dNP, dWL, dWP by both: network and centroids\n",
    "- cNT is differentiated from cEE and dNP only by the network distribution, and from dNP, dWL by both: network and centroids\n",
    "- dWL is differentiated from dNP by centroids; from cNT and cEE by both, network and centroids. There are not significant differences with dWP.\n",
    "- dWP is differentiated from dNP by centroids; from cNT and cEE by both, network and centroids. It cannot be differentiated from dWL.\n",
    "- dNP is differentiated from cNT by network distribution; from cEE by both, network and centroids and from dWL and dWP by centroids."
   ]
  },
  {
   "cell_type": "markdown",
   "metadata": {},
   "source": [
    "##### cNT vs dNP"
   ]
  },
  {
   "cell_type": "markdown",
   "metadata": {},
   "source": [
    "The variables with a Dunn test smaller or equal than 0.01 are"
   ]
  },
  {
   "cell_type": "code",
   "execution_count": null,
   "metadata": {},
   "outputs": [],
   "source": [
    "Pvalues[\"cNT - dNP\",cols & Pvalues[\"cNT - dNP\",]<=0.01]"
   ]
  },
  {
   "cell_type": "markdown",
   "metadata": {},
   "source": [
    "We can find differences only in the contact network"
   ]
  },
  {
   "cell_type": "markdown",
   "metadata": {},
   "source": [
    "##### cNT vs dWL"
   ]
  },
  {
   "cell_type": "markdown",
   "metadata": {},
   "source": [
    "The variables with a Dunn test smaller or equal than 0.01 are"
   ]
  },
  {
   "cell_type": "code",
   "execution_count": null,
   "metadata": {},
   "outputs": [],
   "source": [
    "Pvalues[\"cNT - dWL\",cols & Pvalues[\"cNT - dWL\",]<=0.01]"
   ]
  },
  {
   "cell_type": "markdown",
   "metadata": {},
   "source": [
    "We can find differences in both, the contact network and in the centroid distribution"
   ]
  },
  {
   "cell_type": "markdown",
   "metadata": {},
   "source": [
    "##### dNP vs dWL"
   ]
  },
  {
   "cell_type": "markdown",
   "metadata": {},
   "source": [
    "The variables with a Dunn test smaller or equal than 0.01 are"
   ]
  },
  {
   "cell_type": "code",
   "execution_count": null,
   "metadata": {},
   "outputs": [],
   "source": [
    "Pvalues[\"dNP - dWL\",cols & Pvalues[\"dNP - dWL\",]<=0.01]"
   ]
  },
  {
   "cell_type": "markdown",
   "metadata": {},
   "source": [
    "We cannot find differences between dNP and dWL"
   ]
  },
  {
   "cell_type": "markdown",
   "metadata": {},
   "source": [
    "##### cNT - dWP"
   ]
  },
  {
   "cell_type": "markdown",
   "metadata": {},
   "source": [
    "The variables with a Dunn test smaller or equal than 0.01 are"
   ]
  },
  {
   "cell_type": "code",
   "execution_count": null,
   "metadata": {},
   "outputs": [],
   "source": [
    "Pvalues[\"cNT - dWP\",cols & Pvalues[\"cNT - dWP\",]<=0.01]"
   ]
  },
  {
   "cell_type": "markdown",
   "metadata": {},
   "source": [
    "We can find differences in both, the contact network and in the centroid distribution"
   ]
  },
  {
   "cell_type": "markdown",
   "metadata": {},
   "source": [
    "##### dNP vs dWP"
   ]
  },
  {
   "cell_type": "markdown",
   "metadata": {},
   "source": [
    "The variables with a Dunn test smaller or equal than 0.01 are"
   ]
  },
  {
   "cell_type": "code",
   "execution_count": null,
   "metadata": {
    "scrolled": false
   },
   "outputs": [],
   "source": [
    "Pvalues[\"dNP - dWP\",cols & Pvalues[\"dNP - dWP\",]<=0.01]"
   ]
  },
  {
   "cell_type": "markdown",
   "metadata": {},
   "source": [
    "We can find differences between dNP and dWP"
   ]
  },
  {
   "cell_type": "markdown",
   "metadata": {},
   "source": [
    "##### dWL vs dWP"
   ]
  },
  {
   "cell_type": "markdown",
   "metadata": {},
   "source": [
    "The variables with a Dunn test smaller or equal than 0.01 are"
   ]
  },
  {
   "cell_type": "code",
   "execution_count": null,
   "metadata": {
    "scrolled": true
   },
   "outputs": [],
   "source": [
    "Pvalues[\"dWL - dWP\",cols & Pvalues[\"dWL - dWP\",]<=0.01]"
   ]
  },
  {
   "cell_type": "markdown",
   "metadata": {},
   "source": [
    "We cannot find differences between dNP and dWP"
   ]
  },
  {
   "cell_type": "markdown",
   "metadata": {},
   "source": [
    "## Differences between CVT path and Epithelial tissues"
   ]
  },
  {
   "cell_type": "markdown",
   "metadata": {},
   "source": [
    "Some steps of the CVT paths are though to represent well the contact network of some epithelial tissues.\n",
    "In particular, cNT is similar to CVT001, dWL is similar to CVT004 and dWP is similar to CVT005."
   ]
  },
  {
   "cell_type": "markdown",
   "metadata": {},
   "source": [
    "We will perform Mann-Whitney U tests to see if we can find significant differences in their contact network and centroid distribution with our method."
   ]
  },
  {
   "cell_type": "code",
   "execution_count": null,
   "metadata": {},
   "outputs": [],
   "source": [
    "variables <- colnames(cells_frame)\n",
    "variables <- variables[seq(2,length(variables))]\n",
    "CVTvsEPI <- data.frame(variables)\n",
    "\n",
    "#calculate p-values of the Mann-Whitney U test\n",
    "aux <- c()\n",
    "for (colName in variables){\n",
    "  epi = cells_frame[cells_frame$type == 'cNT', colName]\n",
    "  cvt = cells_frame[cells_frame$type == 'CVT001', colName]\n",
    "  aux <- c(aux, as.numeric(wilcox.test(epi,cvt, exact = FALSE)[3]))\n",
    "}\n",
    "CVTvsEPI[\"001vsCNT\"] <- aux\n",
    "\n",
    "aux <- c()\n",
    "for (colName in variables){\n",
    "  epi = cells_frame[cells_frame$type == 'dWL', colName]\n",
    "  cvt = cells_frame[cells_frame$type == 'CVT004', colName]\n",
    "  aux <- c(aux, as.numeric(wilcox.test(epi,cvt, exact = FALSE)[3]))\n",
    "}\n",
    "CVTvsEPI[\"004vsDWL\"] <- aux\n",
    "\n",
    "aux <- c()\n",
    "for (colName in variables){\n",
    "  epi = cells_frame[cells_frame$type == 'dWP', colName]\n",
    "  cvt = cells_frame[cells_frame$type == 'CVT005', colName]\n",
    "  aux <- c(aux, as.numeric(wilcox.test(epi,cvt, exact = FALSE)[3]))\n",
    "}\n",
    "CVTvsEPI[\"005vsDWP\"] <- aux"
   ]
  },
  {
   "cell_type": "markdown",
   "metadata": {},
   "source": [
    "##### Summary:\n",
    "cNT and dWP can be differentiated from CVT001 and CVT005 respectively by both, network and centroid distribution. dWL can be differentiated from CVT004 only by network distribution"
   ]
  },
  {
   "cell_type": "markdown",
   "metadata": {},
   "source": [
    "##### cNT vs CVT001"
   ]
  },
  {
   "cell_type": "markdown",
   "metadata": {},
   "source": [
    "These are the variable for which the p-value of the Mann-Whitney U test is smaller than or equal to 0.01 "
   ]
  },
  {
   "cell_type": "code",
   "execution_count": null,
   "metadata": {},
   "outputs": [],
   "source": [
    "as.vector(CVTvsEPI[CVTvsEPI[, \"001vsCNT\"]<=0.01, c(\"variables\", \"001vsCNT\")])"
   ]
  },
  {
   "cell_type": "markdown",
   "metadata": {},
   "source": [
    "We can find differences in both, the contact network and the centroid distribution"
   ]
  },
  {
   "cell_type": "markdown",
   "metadata": {},
   "source": [
    "##### dWL vs CVT004"
   ]
  },
  {
   "cell_type": "markdown",
   "metadata": {},
   "source": [
    "These are the variable for which the p-value of the Mann-Whitney U test is smaller than or equal to 0.01 "
   ]
  },
  {
   "cell_type": "code",
   "execution_count": null,
   "metadata": {},
   "outputs": [],
   "source": [
    "as.vector(CVTvsEPI[CVTvsEPI[, \"004vsDWL\"]<=0.01, c(\"variables\", \"004vsDWL\")])"
   ]
  },
  {
   "cell_type": "markdown",
   "metadata": {},
   "source": [
    "##### dWP vs CVT005"
   ]
  },
  {
   "cell_type": "markdown",
   "metadata": {},
   "source": [
    "These are the variable for which the p-value of the Mann-Whitney U test is smaller than or equal to 0.01 "
   ]
  },
  {
   "cell_type": "code",
   "execution_count": null,
   "metadata": {},
   "outputs": [],
   "source": [
    "as.vector(CVTvsEPI[CVTvsEPI[, \"005vsDWP\"]<=0.01, c(\"variables\", \"005vsDWP\")])"
   ]
  },
  {
   "cell_type": "code",
   "execution_count": null,
   "metadata": {},
   "outputs": [],
   "source": []
  },
  {
   "cell_type": "code",
   "execution_count": null,
   "metadata": {},
   "outputs": [],
   "source": []
  }
 ],
 "metadata": {
  "kernelspec": {
   "display_name": "R",
   "language": "R",
   "name": "ir"
  },
  "language_info": {
   "codemirror_mode": "r",
   "file_extension": ".r",
   "mimetype": "text/x-r-source",
   "name": "R",
   "pygments_lexer": "r",
   "version": "3.6.1"
  }
 },
 "nbformat": 4,
 "nbformat_minor": 4
}
