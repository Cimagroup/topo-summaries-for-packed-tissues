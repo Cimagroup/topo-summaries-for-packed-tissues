{
 "cells": [
  {
   "cell_type": "code",
   "execution_count": 1,
   "metadata": {},
   "outputs": [
    {
     "name": "stderr",
     "output_type": "stream",
     "text": [
      "randomForest 4.6-14\n",
      "Type rfNews() to see new features/changes/bug fixes.\n"
     ]
    }
   ],
   "source": [
    "library(\"randomForest\")\n",
    "cellNumber <- 187\n",
    "load(paste(\"../2_variables/frames\",as.character(cellNumber), \"cells_frame.RData\", sep=\"/\"))\n",
    "set.seed(1)\n",
    "drosophila.df <- cells_frame"
   ]
  },
  {
   "cell_type": "markdown",
   "metadata": {},
   "source": [
    "We regroup all natural drosophila tissues as one 'drosophila' type"
   ]
  },
  {
   "cell_type": "code",
   "execution_count": 2,
   "metadata": {},
   "outputs": [],
   "source": [
    "type <- as.vector(cells_frame[,'type'])\n",
    "for (i in seq(length(type))){\n",
    "    if (type[i] == 'dNP' || type[i] == 'dWL' || type[i] == 'dWP'){\n",
    "        type[i] <- 'drosophila'\n",
    "    }\n",
    "} \n",
    "drosophila.df$type <- as.factor(type)"
   ]
  },
  {
   "cell_type": "markdown",
   "metadata": {},
   "source": [
    "## TDA variables"
   ]
  },
  {
   "cell_type": "markdown",
   "metadata": {},
   "source": [
    "And see if we can classify them using all variables:"
   ]
  },
  {
   "cell_type": "code",
   "execution_count": 3,
   "metadata": {},
   "outputs": [],
   "source": [
    "cond <- drosophila.df$type == 'cNT' | drosophila.df$type == 'cEE' | drosophila.df$type == 'drosophila'\n",
    "data.class <- droplevels(drosophila.df[cond,])"
   ]
  },
  {
   "cell_type": "code",
   "execution_count": 4,
   "metadata": {},
   "outputs": [],
   "source": [
    "training.cEE <- c()\n",
    "training.cNT <- c()\n",
    "training.drosophila <- c()\n",
    "training.all <- c()\n",
    "\n",
    "validation.cEE <- c()\n",
    "validation.cNT <- c()\n",
    "validation.drosophila <- c()\n",
    "validation.all <- c()\n",
    "\n",
    "for (i in seq(10000)){\n",
    "    data_set_size <- floor(nrow(data.class)/4*3)\n",
    "\n",
    "    indexes <- sample(1:nrow(data.class), size = data_set_size)\n",
    "\n",
    "    training <- data.class[indexes,]\n",
    "    validation1 <- data.class[-indexes,]\n",
    "\n",
    "    rf <- randomForest(formula = type ~ ., data = training, ntree = 200)\n",
    "    training.cEE <- c(training.cEE, rf$confusion['cEE',4])\n",
    "    training.cNT <- c(training.cNT, rf$confusion['cNT',4])\n",
    "    training.drosophila <- c(training.drosophila, rf$confusion['drosophila',4])\n",
    "    pm <- rf$confusion\n",
    "    training.all <- c(training.all, 1 - (pm[1,1] + pm [2,2] + pm[3,3])/sum(pm))\n",
    "    \n",
    "    prediction_for_table <- predict(rf,validation1[cond,])\n",
    "    pm <- table(observed=validation1[cond,'type'],predicted=prediction_for_table)\n",
    "    validation.cEE <- c(validation.cEE, 1 - pm['cEE', 'cEE']/sum(pm['cEE',]))\n",
    "    validation.cNT <- c(validation.cNT, 1 - pm['cNT', 'cNT']/sum(pm['cNT',]))\n",
    "    validation.drosophila <- c(validation.drosophila, 1 - pm['drosophila', 'drosophila']/sum(pm['drosophila',]))\n",
    "    validation.all <- c(validation.all, 1 - (pm[1,1] + pm [2,2] + pm[3,3])/sum(pm))\n",
    "        \n",
    "    }"
   ]
  },
  {
   "cell_type": "code",
   "execution_count": 5,
   "metadata": {},
   "outputs": [
    {
     "name": "stdout",
     "output_type": "stream",
     "text": [
      "[1] \"cEE error\"\n"
     ]
    },
    {
     "data": {
      "text/html": [
       "0.85477480991231"
      ],
      "text/latex": [
       "0.85477480991231"
      ],
      "text/markdown": [
       "0.85477480991231"
      ],
      "text/plain": [
       "[1] 0.8547748"
      ]
     },
     "metadata": {},
     "output_type": "display_data"
    },
    {
     "name": "stdout",
     "output_type": "stream",
     "text": [
      "[1] \"cNT error\"\n"
     ]
    },
    {
     "data": {
      "text/html": [
       "0.825270771034521"
      ],
      "text/latex": [
       "0.825270771034521"
      ],
      "text/markdown": [
       "0.825270771034521"
      ],
      "text/plain": [
       "[1] 0.8252708"
      ]
     },
     "metadata": {},
     "output_type": "display_data"
    },
    {
     "name": "stdout",
     "output_type": "stream",
     "text": [
      "[1] \"drosophila error\"\n"
     ]
    },
    {
     "data": {
      "text/html": [
       "0.99767733673794"
      ],
      "text/latex": [
       "0.99767733673794"
      ],
      "text/markdown": [
       "0.99767733673794"
      ],
      "text/plain": [
       "[1] 0.9976773"
      ]
     },
     "metadata": {},
     "output_type": "display_data"
    },
    {
     "name": "stdout",
     "output_type": "stream",
     "text": [
      "[1] \"total error\"\n"
     ]
    },
    {
     "data": {
      "text/html": [
       "0.9291774321726"
      ],
      "text/latex": [
       "0.9291774321726"
      ],
      "text/markdown": [
       "0.9291774321726"
      ],
      "text/plain": [
       "[1] 0.9291774"
      ]
     },
     "metadata": {},
     "output_type": "display_data"
    }
   ],
   "source": [
    "print('cEE error')\n",
    "1-mean(training.cEE)\n",
    "print('cNT error')\n",
    "1-mean(training.cNT)\n",
    "print('drosophila error')\n",
    "1-mean(training.drosophila)\n",
    "print('total error')\n",
    "1-mean(training.all)"
   ]
  },
  {
   "cell_type": "code",
   "execution_count": 6,
   "metadata": {},
   "outputs": [
    {
     "name": "stdout",
     "output_type": "stream",
     "text": [
      "[1] \"cEE error\"\n"
     ]
    },
    {
     "data": {
      "text/html": [
       "0.868270277777778"
      ],
      "text/latex": [
       "0.868270277777778"
      ],
      "text/markdown": [
       "0.868270277777778"
      ],
      "text/plain": [
       "[1] 0.8682703"
      ]
     },
     "metadata": {},
     "output_type": "display_data"
    },
    {
     "name": "stdout",
     "output_type": "stream",
     "text": [
      "[1] \"cNT error\"\n"
     ]
    },
    {
     "data": {
      "text/html": [
       "0.828747698412698"
      ],
      "text/latex": [
       "0.828747698412698"
      ],
      "text/markdown": [
       "0.828747698412698"
      ],
      "text/plain": [
       "[1] 0.8287477"
      ]
     },
     "metadata": {},
     "output_type": "display_data"
    },
    {
     "name": "stdout",
     "output_type": "stream",
     "text": [
      "[1] \"drosophila error\"\n"
     ]
    },
    {
     "data": {
      "text/html": [
       "0.998945682152815"
      ],
      "text/latex": [
       "0.998945682152815"
      ],
      "text/markdown": [
       "0.998945682152815"
      ],
      "text/plain": [
       "[1] 0.9989457"
      ]
     },
     "metadata": {},
     "output_type": "display_data"
    },
    {
     "name": "stdout",
     "output_type": "stream",
     "text": [
      "[1] \"global error\"\n"
     ]
    },
    {
     "data": {
      "text/html": [
       "0.9345"
      ],
      "text/latex": [
       "0.9345"
      ],
      "text/markdown": [
       "0.9345"
      ],
      "text/plain": [
       "[1] 0.9345"
      ]
     },
     "metadata": {},
     "output_type": "display_data"
    }
   ],
   "source": [
    "# In rare cases there are not type of some tissue in the validation, creating a NaN in the sequence. \n",
    "# Since no error is committed in this cases, we change the NaN by 0s\n",
    "validation.cEE[is.nan(validation.cEE)] = 0\n",
    "validation.cNT[is.nan(validation.cNT)] = 0\n",
    "validation.drosophila[is.nan(validation.drosophila)] = 0\n",
    "validation.all[is.nan(validation.all)] = 0\n",
    "\n",
    "print('cEE error')\n",
    "1-mean(validation.cEE)\n",
    "print('cNT error')\n",
    "1-mean(validation.cNT)\n",
    "print('drosophila error')\n",
    "1-mean(validation.drosophila) \n",
    "print('global error')\n",
    "1-mean(validation.all)"
   ]
  },
  {
   "cell_type": "markdown",
   "metadata": {},
   "source": [
    "## Network variables"
   ]
  },
  {
   "cell_type": "code",
   "execution_count": 7,
   "metadata": {},
   "outputs": [],
   "source": [
    "load(paste(\"../2_variables/frames\",as.character(cellNumber), \"network_frame.RData\", sep=\"/\"))\n",
    "network.df <- network_frame"
   ]
  },
  {
   "cell_type": "markdown",
   "metadata": {},
   "source": [
    "We regroup all natural drosophila tissues as one 'drosophila' type"
   ]
  },
  {
   "cell_type": "code",
   "execution_count": 8,
   "metadata": {},
   "outputs": [],
   "source": [
    "type <- as.vector(network_frame[,'type'])\n",
    "for (i in seq(length(type))){\n",
    "    if (type[i] == 'dNP' || type[i] == 'dWL' || type[i] == 'dWP'){\n",
    "        type[i] <- 'drosophila'\n",
    "    }\n",
    "} \n",
    "network.df$type <- as.factor(type)"
   ]
  },
  {
   "cell_type": "code",
   "execution_count": 9,
   "metadata": {},
   "outputs": [],
   "source": [
    "cond <- network.df$type == 'cNT' | network.df$type == 'cEE' | network.df$type == 'drosophila'\n",
    "data.class <- droplevels(network.df[cond,])"
   ]
  },
  {
   "cell_type": "code",
   "execution_count": 10,
   "metadata": {},
   "outputs": [],
   "source": [
    "training.cEE <- c()\n",
    "training.cNT <- c()\n",
    "training.drosophila <- c()\n",
    "training.all <- c()\n",
    "\n",
    "validation.cEE <- c()\n",
    "validation.cNT <- c()\n",
    "validation.drosophila <- c()\n",
    "validation.all <- c()\n",
    "\n",
    "for (i in seq(10000)){\n",
    "    data_set_size <- floor(nrow(data.class)/4*3)\n",
    "\n",
    "    indexes <- sample(1:nrow(data.class), size = data_set_size)\n",
    "\n",
    "    training <- data.class[indexes,]\n",
    "    validation1 <- data.class[-indexes,]\n",
    "\n",
    "    rf <- randomForest(formula = type ~ ., data = training, ntree = 200)\n",
    "    training.cEE <- c(training.cEE, rf$confusion['cEE',4])\n",
    "    training.cNT <- c(training.cNT, rf$confusion['cNT',4])\n",
    "    training.drosophila <- c(training.drosophila, rf$confusion['drosophila',4])\n",
    "    pm <- rf$confusion\n",
    "    training.all <- c(training.all, 1 - (pm[1,1] + pm [2,2] + pm[3,3])/sum(pm))\n",
    "    \n",
    "    prediction_for_table <- predict(rf,validation1[cond,])\n",
    "    pm <- table(observed=validation1[cond,'type'],predicted=prediction_for_table)\n",
    "    validation.cEE <- c(validation.cEE, 1 - pm['cEE', 'cEE']/sum(pm['cEE',]))\n",
    "    validation.cNT <- c(validation.cNT, 1 - pm['cNT', 'cNT']/sum(pm['cNT',]))\n",
    "    validation.drosophila <- c(validation.drosophila, 1 - pm['drosophila', 'drosophila']/sum(pm['drosophila',]))\n",
    "    validation.all <- c(validation.all, 1 - (pm[1,1] + pm [2,2] + pm[3,3])/sum(pm))\n",
    "        \n",
    "    }"
   ]
  },
  {
   "cell_type": "code",
   "execution_count": 11,
   "metadata": {},
   "outputs": [
    {
     "name": "stdout",
     "output_type": "stream",
     "text": [
      "[1] \"cEE error\"\n"
     ]
    },
    {
     "data": {
      "text/html": [
       "0.862811071706072"
      ],
      "text/latex": [
       "0.862811071706072"
      ],
      "text/markdown": [
       "0.862811071706072"
      ],
      "text/plain": [
       "[1] 0.8628111"
      ]
     },
     "metadata": {},
     "output_type": "display_data"
    },
    {
     "name": "stdout",
     "output_type": "stream",
     "text": [
      "[1] \"cNT error\"\n"
     ]
    },
    {
     "data": {
      "text/html": [
       "0.933235823343323"
      ],
      "text/latex": [
       "0.933235823343323"
      ],
      "text/markdown": [
       "0.933235823343323"
      ],
      "text/plain": [
       "[1] 0.9332358"
      ]
     },
     "metadata": {},
     "output_type": "display_data"
    },
    {
     "name": "stdout",
     "output_type": "stream",
     "text": [
      "[1] \"drosophila error\"\n"
     ]
    },
    {
     "data": {
      "text/html": [
       "1"
      ],
      "text/latex": [
       "1"
      ],
      "text/markdown": [
       "1"
      ],
      "text/plain": [
       "[1] 1"
      ]
     },
     "metadata": {},
     "output_type": "display_data"
    },
    {
     "name": "stdout",
     "output_type": "stream",
     "text": [
      "[1] \"global error\"\n"
     ]
    },
    {
     "data": {
      "text/html": [
       "0.957563612638344"
      ],
      "text/latex": [
       "0.957563612638344"
      ],
      "text/markdown": [
       "0.957563612638344"
      ],
      "text/plain": [
       "[1] 0.9575636"
      ]
     },
     "metadata": {},
     "output_type": "display_data"
    }
   ],
   "source": [
    "print('cEE error')\n",
    "1-mean(training.cEE)\n",
    "print('cNT error')\n",
    "1-mean(training.cNT)\n",
    "print('drosophila error')\n",
    "1-mean(training.drosophila)\n",
    "print('global error')\n",
    "1-mean(training.all)"
   ]
  },
  {
   "cell_type": "code",
   "execution_count": 12,
   "metadata": {
    "scrolled": true
   },
   "outputs": [
    {
     "name": "stdout",
     "output_type": "stream",
     "text": [
      "[1] \"cEE error\"\n"
     ]
    },
    {
     "data": {
      "text/html": [
       "0.875321904761905"
      ],
      "text/latex": [
       "0.875321904761905"
      ],
      "text/markdown": [
       "0.875321904761905"
      ],
      "text/plain": [
       "[1] 0.8753219"
      ]
     },
     "metadata": {},
     "output_type": "display_data"
    },
    {
     "name": "stdout",
     "output_type": "stream",
     "text": [
      "[1] \"cNT error\"\n"
     ]
    },
    {
     "data": {
      "text/html": [
       "0.938637857142857"
      ],
      "text/latex": [
       "0.938637857142857"
      ],
      "text/markdown": [
       "0.938637857142857"
      ],
      "text/plain": [
       "[1] 0.9386379"
      ]
     },
     "metadata": {},
     "output_type": "display_data"
    },
    {
     "name": "stdout",
     "output_type": "stream",
     "text": [
      "[1] \"drosophila error\"\n"
     ]
    },
    {
     "data": {
      "text/html": [
       "1"
      ],
      "text/latex": [
       "1"
      ],
      "text/markdown": [
       "1"
      ],
      "text/plain": [
       "[1] 1"
      ]
     },
     "metadata": {},
     "output_type": "display_data"
    },
    {
     "name": "stdout",
     "output_type": "stream",
     "text": [
      "[1] \"global error\"\n"
     ]
    },
    {
     "data": {
      "text/html": [
       "0.961288888888889"
      ],
      "text/latex": [
       "0.961288888888889"
      ],
      "text/markdown": [
       "0.961288888888889"
      ],
      "text/plain": [
       "[1] 0.9612889"
      ]
     },
     "metadata": {},
     "output_type": "display_data"
    }
   ],
   "source": [
    "# In rare cases there are not type of some tissue in the validation, creating a NaN in the sequence. \n",
    "# Since no error is committed in this cases, we change the NaN by 0s\n",
    "validation.cEE[is.nan(validation.cEE)] = 0\n",
    "validation.cNT[is.nan(validation.cNT)] = 0\n",
    "validation.drosophila[is.nan(validation.drosophila)] = 0\n",
    "validation.all[is.nan(validation.all)] = 0\n",
    "\n",
    "print('cEE error')\n",
    "1-mean(validation.cEE)\n",
    "print('cNT error')\n",
    "1-mean(validation.cNT)\n",
    "print('drosophila error')\n",
    "1-mean(validation.drosophila) \n",
    "print('global error')\n",
    "1-mean(validation.all)"
   ]
  },
  {
   "cell_type": "markdown",
   "metadata": {},
   "source": [
    "## Mean and Variance"
   ]
  },
  {
   "cell_type": "code",
   "execution_count": 13,
   "metadata": {},
   "outputs": [],
   "source": [
    "training.cEE <- c()\n",
    "training.cNT <- c()\n",
    "training.drosophila <- c()\n",
    "training.all <- c()\n",
    "\n",
    "validation.cEE <- c()\n",
    "validation.cNT <- c()\n",
    "validation.drosophila <- c()\n",
    "validation.all <- c()\n",
    "\n",
    "for (i in seq(10000)){\n",
    "    data_set_size <- floor(nrow(data.class)/4*3)\n",
    "\n",
    "    indexes <- sample(1:nrow(data.class), size = data_set_size)\n",
    "\n",
    "    training <- data.class[indexes,]\n",
    "    validation1 <- data.class[-indexes,]\n",
    "\n",
    "    rf <- randomForest(formula = type ~ mean_degree + var_degree, data = training, ntree = 200)\n",
    "    training.cEE <- c(training.cEE, rf$confusion['cEE',4])\n",
    "    training.cNT <- c(training.cNT, rf$confusion['cNT',4])\n",
    "    training.drosophila <- c(training.drosophila, rf$confusion['drosophila',4])\n",
    "    pm <- rf$confusion\n",
    "    training.all <- c(training.all, 1 - (pm[1,1] + pm [2,2] + pm[3,3])/sum(pm))\n",
    "    \n",
    "    prediction_for_table <- predict(rf,validation1[cond,])\n",
    "    pm <- table(observed=validation1[cond,'type'],predicted=prediction_for_table)\n",
    "    validation.cEE <- c(validation.cEE, 1 - pm['cEE', 'cEE']/sum(pm['cEE',]))\n",
    "    validation.cNT <- c(validation.cNT, 1 - pm['cNT', 'cNT']/sum(pm['cNT',]))\n",
    "    validation.drosophila <- c(validation.drosophila, 1 - pm['drosophila', 'drosophila']/sum(pm['drosophila',]))\n",
    "    validation.all <- c(validation.all, 1 - (pm[1,1] + pm [2,2] + pm[3,3])/sum(pm))\n",
    "        \n",
    "    }"
   ]
  },
  {
   "cell_type": "code",
   "execution_count": 14,
   "metadata": {},
   "outputs": [
    {
     "name": "stdout",
     "output_type": "stream",
     "text": [
      "[1] \"cEE error\"\n"
     ]
    },
    {
     "data": {
      "text/html": [
       "0.897106567044067"
      ],
      "text/latex": [
       "0.897106567044067"
      ],
      "text/markdown": [
       "0.897106567044067"
      ],
      "text/plain": [
       "[1] 0.8971066"
      ]
     },
     "metadata": {},
     "output_type": "display_data"
    },
    {
     "name": "stdout",
     "output_type": "stream",
     "text": [
      "[1] \"cNT error\"\n"
     ]
    },
    {
     "data": {
      "text/html": [
       "0.891859038877789"
      ],
      "text/latex": [
       "0.891859038877789"
      ],
      "text/markdown": [
       "0.891859038877789"
      ],
      "text/plain": [
       "[1] 0.891859"
      ]
     },
     "metadata": {},
     "output_type": "display_data"
    },
    {
     "name": "stdout",
     "output_type": "stream",
     "text": [
      "[1] \"drosophila error\"\n"
     ]
    },
    {
     "data": {
      "text/html": [
       "0.999731449757293"
      ],
      "text/latex": [
       "0.999731449757293"
      ],
      "text/markdown": [
       "0.999731449757293"
      ],
      "text/plain": [
       "[1] 0.9997314"
      ]
     },
     "metadata": {},
     "output_type": "display_data"
    },
    {
     "name": "stdout",
     "output_type": "stream",
     "text": [
      "[1] \"total error\"\n"
     ]
    },
    {
     "data": {
      "text/html": [
       "0.955335004099588"
      ],
      "text/latex": [
       "0.955335004099588"
      ],
      "text/markdown": [
       "0.955335004099588"
      ],
      "text/plain": [
       "[1] 0.955335"
      ]
     },
     "metadata": {},
     "output_type": "display_data"
    }
   ],
   "source": [
    "print('cEE error')\n",
    "1-mean(training.cEE)\n",
    "print('cNT error')\n",
    "1-mean(training.cNT)\n",
    "print('drosophila error')\n",
    "1-mean(training.drosophila)\n",
    "print('total error')\n",
    "1-mean(training.all)"
   ]
  },
  {
   "cell_type": "code",
   "execution_count": 15,
   "metadata": {
    "scrolled": true
   },
   "outputs": [
    {
     "name": "stdout",
     "output_type": "stream",
     "text": [
      "[1] \"cEE error\"\n"
     ]
    },
    {
     "data": {
      "text/html": [
       "0.939818214285714"
      ],
      "text/latex": [
       "0.939818214285714"
      ],
      "text/markdown": [
       "0.939818214285714"
      ],
      "text/plain": [
       "[1] 0.9398182"
      ]
     },
     "metadata": {},
     "output_type": "display_data"
    },
    {
     "name": "stdout",
     "output_type": "stream",
     "text": [
      "[1] \"cNT error\"\n"
     ]
    },
    {
     "data": {
      "text/html": [
       "0.893718492063492"
      ],
      "text/latex": [
       "0.893718492063492"
      ],
      "text/markdown": [
       "0.893718492063492"
      ],
      "text/plain": [
       "[1] 0.8937185"
      ]
     },
     "metadata": {},
     "output_type": "display_data"
    },
    {
     "name": "stdout",
     "output_type": "stream",
     "text": [
      "[1] \"drosophila error\"\n"
     ]
    },
    {
     "data": {
      "text/html": [
       "0.999978888888889"
      ],
      "text/latex": [
       "0.999978888888889"
      ],
      "text/markdown": [
       "0.999978888888889"
      ],
      "text/plain": [
       "[1] 0.9999789"
      ]
     },
     "metadata": {},
     "output_type": "display_data"
    },
    {
     "name": "stdout",
     "output_type": "stream",
     "text": [
      "[1] \"global error\"\n"
     ]
    },
    {
     "data": {
      "text/html": [
       "0.961411111111111"
      ],
      "text/latex": [
       "0.961411111111111"
      ],
      "text/markdown": [
       "0.961411111111111"
      ],
      "text/plain": [
       "[1] 0.9614111"
      ]
     },
     "metadata": {},
     "output_type": "display_data"
    }
   ],
   "source": [
    "# In rare cases there are not type of some tissue in the validation, creating a NaN in the sequence. \n",
    "# Since no error is committed in this cases, we change the NaN by 0s\n",
    "validation.cEE[is.nan(validation.cEE)] = 0\n",
    "validation.cNT[is.nan(validation.cNT)] = 0\n",
    "validation.drosophila[is.nan(validation.drosophila)] = 0\n",
    "validation.all[is.nan(validation.all)] = 0\n",
    "\n",
    "print('cEE error')\n",
    "1-mean(validation.cEE)\n",
    "print('cNT error')\n",
    "1-mean(validation.cNT)\n",
    "print('drosophila error')\n",
    "1-mean(validation.drosophila) \n",
    "print('global error')\n",
    "1-mean(validation.all)"
   ]
  },
  {
   "cell_type": "markdown",
   "metadata": {},
   "source": [
    "## Mixed variables"
   ]
  },
  {
   "cell_type": "code",
   "execution_count": 16,
   "metadata": {},
   "outputs": [],
   "source": [
    "mix_frame <- cbind(network_frame, cells_frame[,seq(2,length(cells_frame))])\n",
    "mix.df <- mix_frame"
   ]
  },
  {
   "cell_type": "code",
   "execution_count": 17,
   "metadata": {},
   "outputs": [],
   "source": [
    "type <- as.vector(mix_frame[,'type'])\n",
    "for (i in seq(length(type))){\n",
    "    if (type[i] == 'dNP' || type[i] == 'dWL' || type[i] == 'dWP'){\n",
    "        type[i] <- 'drosophila'\n",
    "    }\n",
    "} \n",
    "mix.df$type <- as.factor(type)"
   ]
  },
  {
   "cell_type": "code",
   "execution_count": 18,
   "metadata": {},
   "outputs": [],
   "source": [
    "cond <- mix.df$type == 'cNT' | mix.df$type == 'cEE' | mix.df$type == 'drosophila'\n",
    "data.class <- droplevels(mix.df[cond,])"
   ]
  },
  {
   "cell_type": "code",
   "execution_count": 19,
   "metadata": {},
   "outputs": [],
   "source": [
    "training.cEE <- c()\n",
    "training.cNT <- c()\n",
    "training.drosophila <- c()\n",
    "training.all <- c()\n",
    "\n",
    "validation.cEE <- c()\n",
    "validation.cNT <- c()\n",
    "validation.drosophila <- c()\n",
    "validation.all <- c()\n",
    "\n",
    "for (i in seq(10000)){\n",
    "    data_set_size <- floor(nrow(data.class)/4*3)\n",
    "\n",
    "    indexes <- sample(1:nrow(data.class), size = data_set_size)\n",
    "\n",
    "    training <- data.class[indexes,]\n",
    "    validation1 <- data.class[-indexes,]\n",
    "\n",
    "    rf <- randomForest(formula = type ~ ., data = training, ntree = 200)\n",
    "    training.cEE <- c(training.cEE, rf$confusion['cEE',4])\n",
    "    training.cNT <- c(training.cNT, rf$confusion['cNT',4])\n",
    "    training.drosophila <- c(training.drosophila, rf$confusion['drosophila',4])\n",
    "    pm <- rf$confusion\n",
    "    training.all <- c(training.all, 1 - (pm[1,1] + pm [2,2] + pm[3,3])/sum(pm))\n",
    "    \n",
    "    prediction_for_table <- predict(rf,validation1[cond,])\n",
    "    pm <- table(observed=validation1[cond,'type'],predicted=prediction_for_table)\n",
    "    validation.cEE <- c(validation.cEE, 1 - pm['cEE', 'cEE']/sum(pm['cEE',]))\n",
    "    validation.cNT <- c(validation.cNT, 1 - pm['cNT', 'cNT']/sum(pm['cNT',]))\n",
    "    validation.drosophila <- c(validation.drosophila, 1 - pm['drosophila', 'drosophila']/sum(pm['drosophila',]))\n",
    "    validation.all <- c(validation.all, 1 - (pm[1,1] + pm [2,2] + pm[3,3])/sum(pm))\n",
    "        \n",
    "    }"
   ]
  },
  {
   "cell_type": "code",
   "execution_count": 20,
   "metadata": {},
   "outputs": [
    {
     "name": "stdout",
     "output_type": "stream",
     "text": [
      "[1] \"cEE acc\"\n"
     ]
    },
    {
     "data": {
      "text/html": [
       "0.861141112221112"
      ],
      "text/latex": [
       "0.861141112221112"
      ],
      "text/markdown": [
       "0.861141112221112"
      ],
      "text/plain": [
       "[1] 0.8611411"
      ]
     },
     "metadata": {},
     "output_type": "display_data"
    },
    {
     "name": "stdout",
     "output_type": "stream",
     "text": [
      "[1] \"cNT acc\"\n"
     ]
    },
    {
     "data": {
      "text/html": [
       "0.91889153055278"
      ],
      "text/latex": [
       "0.91889153055278"
      ],
      "text/markdown": [
       "0.91889153055278"
      ],
      "text/plain": [
       "[1] 0.9188915"
      ]
     },
     "metadata": {},
     "output_type": "display_data"
    },
    {
     "name": "stdout",
     "output_type": "stream",
     "text": [
      "[1] \"drosophila acc\"\n"
     ]
    },
    {
     "data": {
      "text/html": [
       "1"
      ],
      "text/latex": [
       "1"
      ],
      "text/markdown": [
       "1"
      ],
      "text/plain": [
       "[1] 1"
      ]
     },
     "metadata": {},
     "output_type": "display_data"
    },
    {
     "name": "stdout",
     "output_type": "stream",
     "text": [
      "[1] \"global acc\"\n"
     ]
    },
    {
     "data": {
      "text/html": [
       "0.953925460269537"
      ],
      "text/latex": [
       "0.953925460269537"
      ],
      "text/markdown": [
       "0.953925460269537"
      ],
      "text/plain": [
       "[1] 0.9539255"
      ]
     },
     "metadata": {},
     "output_type": "display_data"
    }
   ],
   "source": [
    "print('cEE acc')\n",
    "1-mean(training.cEE)\n",
    "print('cNT acc')\n",
    "1-mean(training.cNT)\n",
    "print('drosophila acc')\n",
    "1-mean(training.drosophila)\n",
    "print('global acc')\n",
    "1-mean(training.all)"
   ]
  },
  {
   "cell_type": "code",
   "execution_count": 21,
   "metadata": {
    "scrolled": true
   },
   "outputs": [
    {
     "name": "stdout",
     "output_type": "stream",
     "text": [
      "[1] \"cEE acc\"\n"
     ]
    },
    {
     "data": {
      "text/html": [
       "0.875895436507937"
      ],
      "text/latex": [
       "0.875895436507937"
      ],
      "text/markdown": [
       "0.875895436507937"
      ],
      "text/plain": [
       "[1] 0.8758954"
      ]
     },
     "metadata": {},
     "output_type": "display_data"
    },
    {
     "name": "stdout",
     "output_type": "stream",
     "text": [
      "[1] \"cNT acc\"\n"
     ]
    },
    {
     "data": {
      "text/html": [
       "0.925355"
      ],
      "text/latex": [
       "0.925355"
      ],
      "text/markdown": [
       "0.925355"
      ],
      "text/plain": [
       "[1] 0.925355"
      ]
     },
     "metadata": {},
     "output_type": "display_data"
    },
    {
     "name": "stdout",
     "output_type": "stream",
     "text": [
      "[1] \"drosophila acc\"\n"
     ]
    },
    {
     "data": {
      "text/html": [
       "1"
      ],
      "text/latex": [
       "1"
      ],
      "text/markdown": [
       "1"
      ],
      "text/plain": [
       "[1] 1"
      ]
     },
     "metadata": {},
     "output_type": "display_data"
    },
    {
     "name": "stdout",
     "output_type": "stream",
     "text": [
      "[1] \"global acc\"\n"
     ]
    },
    {
     "data": {
      "text/html": [
       "0.9583"
      ],
      "text/latex": [
       "0.9583"
      ],
      "text/markdown": [
       "0.9583"
      ],
      "text/plain": [
       "[1] 0.9583"
      ]
     },
     "metadata": {},
     "output_type": "display_data"
    }
   ],
   "source": [
    "# In rare cases there are not type of some tissue in the validation, creating a NaN in the sequence. \n",
    "# Since no error is committed in this cases, we change the NaN by 0s\n",
    "validation.cEE[is.nan(validation.cEE)] = 0\n",
    "validation.cNT[is.nan(validation.cNT)] = 0\n",
    "validation.drosophila[is.nan(validation.drosophila)] = 0\n",
    "validation.all[is.nan(validation.all)] = 0\n",
    "\n",
    "print('cEE acc')\n",
    "1-mean(validation.cEE)\n",
    "print('cNT acc')\n",
    "1-mean(validation.cNT)\n",
    "print('drosophila acc')\n",
    "1-mean(validation.drosophila) \n",
    "print('global acc')\n",
    "1-mean(validation.all)"
   ]
  },
  {
   "cell_type": "markdown",
   "metadata": {},
   "source": [
    "## Mean + Var + lan"
   ]
  },
  {
   "cell_type": "code",
   "execution_count": 28,
   "metadata": {},
   "outputs": [],
   "source": [
    "mix_frame <- cbind(network_frame, cells_frame[,seq(2,length(cells_frame))])\n",
    "#mix_frame <- cbind(network_frame, cells_frame[,c('PE.0.sup', 'lan.1.05.sub', 'lan.1.02.sup')])\n",
    "mix.df <- mix_frame"
   ]
  },
  {
   "cell_type": "code",
   "execution_count": 29,
   "metadata": {},
   "outputs": [],
   "source": [
    "type <- as.vector(mix_frame[,'type'])\n",
    "for (i in seq(length(type))){\n",
    "    if (type[i] == 'dNP' || type[i] == 'dWL' || type[i] == 'dWP'){\n",
    "        type[i] <- 'drosophila'\n",
    "    }\n",
    "} \n",
    "mix.df$type <- as.factor(type)"
   ]
  },
  {
   "cell_type": "code",
   "execution_count": 30,
   "metadata": {},
   "outputs": [],
   "source": [
    "cond <- mix.df$type == 'cNT' | mix.df$type == 'cEE' | mix.df$type == 'drosophila'\n",
    "data.class <- droplevels(mix.df[cond,])"
   ]
  },
  {
   "cell_type": "code",
   "execution_count": 31,
   "metadata": {},
   "outputs": [],
   "source": [
    "training.cEE <- c()\n",
    "training.cNT <- c()\n",
    "training.drosophila <- c()\n",
    "training.all <- c()\n",
    "\n",
    "validation.cEE <- c()\n",
    "validation.cNT <- c()\n",
    "validation.drosophila <- c()\n",
    "validation.all <- c()\n",
    "\n",
    "for (i in seq(10000)){\n",
    "    data_set_size <- floor(nrow(data.class)/4*3)\n",
    "\n",
    "    indexes <- sample(1:nrow(data.class), size = data_set_size)\n",
    "\n",
    "    training <- data.class[indexes,]\n",
    "    validation1 <- data.class[-indexes,]\n",
    "\n",
    "    rf <- randomForest(formula = type ~  mean_degree + var_degree + lan.0.10.sub, \n",
    "                       data = training, ntree = 200)\n",
    "    training.cEE <- c(training.cEE, rf$confusion['cEE',4])\n",
    "    training.cNT <- c(training.cNT, rf$confusion['cNT',4])\n",
    "    training.drosophila <- c(training.drosophila, rf$confusion['drosophila',4])\n",
    "    pm <- rf$confusion\n",
    "    training.all <- c(training.all, 1 - (pm[1,1] + pm [2,2] + pm[3,3])/sum(pm))\n",
    "    \n",
    "    prediction_for_table <- predict(rf,validation1[cond,])\n",
    "    pm <- table(observed=validation1[cond,'type'],predicted=prediction_for_table)\n",
    "    validation.cEE <- c(validation.cEE, 1 - pm['cEE', 'cEE']/sum(pm['cEE',]))\n",
    "    validation.cNT <- c(validation.cNT, 1 - pm['cNT', 'cNT']/sum(pm['cNT',]))\n",
    "    validation.drosophila <- c(validation.drosophila, 1 - pm['drosophila', 'drosophila']/sum(pm['drosophila',]))\n",
    "    validation.all <- c(validation.all, 1 - (pm[1,1] + pm [2,2] + pm[3,3])/sum(pm))  \n",
    "    }"
   ]
  },
  {
   "cell_type": "code",
   "execution_count": 32,
   "metadata": {},
   "outputs": [
    {
     "name": "stdout",
     "output_type": "stream",
     "text": [
      "[1] \"cEE acc\"\n"
     ]
    },
    {
     "data": {
      "text/html": [
       "0.971457355699856"
      ],
      "text/latex": [
       "0.971457355699856"
      ],
      "text/markdown": [
       "0.971457355699856"
      ],
      "text/plain": [
       "[1] 0.9714574"
      ]
     },
     "metadata": {},
     "output_type": "display_data"
    },
    {
     "name": "stdout",
     "output_type": "stream",
     "text": [
      "[1] \"cNT acc\"\n"
     ]
    },
    {
     "data": {
      "text/html": [
       "0.962639213425463"
      ],
      "text/latex": [
       "0.962639213425463"
      ],
      "text/markdown": [
       "0.962639213425463"
      ],
      "text/plain": [
       "[1] 0.9626392"
      ]
     },
     "metadata": {},
     "output_type": "display_data"
    },
    {
     "name": "stdout",
     "output_type": "stream",
     "text": [
      "[1] \"drosophila acc\"\n"
     ]
    },
    {
     "data": {
      "text/html": [
       "0.999978278204244"
      ],
      "text/latex": [
       "0.999978278204244"
      ],
      "text/markdown": [
       "0.999978278204244"
      ],
      "text/plain": [
       "[1] 0.9999783"
      ]
     },
     "metadata": {},
     "output_type": "display_data"
    },
    {
     "name": "stdout",
     "output_type": "stream",
     "text": [
      "[1] \"global acc\"\n"
     ]
    },
    {
     "data": {
      "text/html": [
       "0.986471829490885"
      ],
      "text/latex": [
       "0.986471829490885"
      ],
      "text/markdown": [
       "0.986471829490885"
      ],
      "text/plain": [
       "[1] 0.9864718"
      ]
     },
     "metadata": {},
     "output_type": "display_data"
    }
   ],
   "source": [
    "print('cEE acc')\n",
    "1-mean(training.cEE)\n",
    "print('cNT acc')\n",
    "1-mean(training.cNT)\n",
    "print('drosophila acc')\n",
    "1-mean(training.drosophila)\n",
    "print('global acc')\n",
    "1-mean(training.all)"
   ]
  },
  {
   "cell_type": "code",
   "execution_count": 33,
   "metadata": {},
   "outputs": [
    {
     "name": "stdout",
     "output_type": "stream",
     "text": [
      "[1] \"cEE acc\"\n"
     ]
    },
    {
     "data": {
      "text/html": [
       "0.987816309523809"
      ],
      "text/latex": [
       "0.987816309523809"
      ],
      "text/markdown": [
       "0.987816309523809"
      ],
      "text/plain": [
       "[1] 0.9878163"
      ]
     },
     "metadata": {},
     "output_type": "display_data"
    },
    {
     "name": "stdout",
     "output_type": "stream",
     "text": [
      "[1] \"cNT acc\"\n"
     ]
    },
    {
     "data": {
      "text/html": [
       "0.977395768398268"
      ],
      "text/latex": [
       "0.977395768398268"
      ],
      "text/markdown": [
       "0.977395768398268"
      ],
      "text/plain": [
       "[1] 0.9773958"
      ]
     },
     "metadata": {},
     "output_type": "display_data"
    },
    {
     "name": "stdout",
     "output_type": "stream",
     "text": [
      "[1] \"drosophila acc\"\n"
     ]
    },
    {
     "data": {
      "text/html": [
       "1"
      ],
      "text/latex": [
       "1"
      ],
      "text/markdown": [
       "1"
      ],
      "text/plain": [
       "[1] 1"
      ]
     },
     "metadata": {},
     "output_type": "display_data"
    },
    {
     "name": "stdout",
     "output_type": "stream",
     "text": [
      "[1] \"global acc\"\n"
     ]
    },
    {
     "data": {
      "text/html": [
       "0.990533333333333"
      ],
      "text/latex": [
       "0.990533333333333"
      ],
      "text/markdown": [
       "0.990533333333333"
      ],
      "text/plain": [
       "[1] 0.9905333"
      ]
     },
     "metadata": {},
     "output_type": "display_data"
    }
   ],
   "source": [
    "# In rare cases there are not type of some tissue in the validation, creating a NaN in the sequence. \n",
    "# Since no error is committed in this cases, we change the NaN by 0s\n",
    "validation.cEE[is.nan(validation.cEE)] = 0\n",
    "validation.cNT[is.nan(validation.cNT)] = 0\n",
    "validation.drosophila[is.nan(validation.drosophila)] = 0\n",
    "validation.all[is.nan(validation.all)] = 0\n",
    "\n",
    "print('cEE acc')\n",
    "1-mean(validation.cEE)\n",
    "print('cNT acc')\n",
    "1-mean(validation.cNT)\n",
    "print('drosophila acc')\n",
    "1-mean(validation.drosophila) \n",
    "print('global acc')\n",
    "1-mean(validation.all)"
   ]
  },
  {
   "cell_type": "code",
   "execution_count": null,
   "metadata": {},
   "outputs": [],
   "source": []
  }
 ],
 "metadata": {
  "kernelspec": {
   "display_name": "R",
   "language": "R",
   "name": "ir"
  },
  "language_info": {
   "codemirror_mode": "r",
   "file_extension": ".r",
   "mimetype": "text/x-r-source",
   "name": "R",
   "pygments_lexer": "r",
   "version": "3.6.1"
  }
 },
 "nbformat": 4,
 "nbformat_minor": 4
}
