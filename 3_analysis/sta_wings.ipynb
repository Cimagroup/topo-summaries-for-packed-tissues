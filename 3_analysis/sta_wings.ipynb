{
 "cells": [
  {
   "cell_type": "markdown",
   "metadata": {},
   "source": [
    "# Experiments with 257 cells"
   ]
  },
  {
   "cell_type": "markdown",
   "metadata": {},
   "source": [
    "We run the Mann-Whitney U test to look for differences between dWL and dWP"
   ]
  },
  {
   "cell_type": "markdown",
   "metadata": {},
   "source": [
    "## TDA variables\n"
   ]
  },
  {
   "cell_type": "markdown",
   "metadata": {},
   "source": [
    "### 187"
   ]
  },
  {
   "cell_type": "code",
   "execution_count": 11,
   "metadata": {},
   "outputs": [],
   "source": [
    "cellNumber <- 187\n",
    "load(paste(\"../2_variables/frames\",as.character(cellNumber), \"cells_frame.RData\", sep=\"/\"))"
   ]
  },
  {
   "cell_type": "code",
   "execution_count": 12,
   "metadata": {
    "scrolled": false
   },
   "outputs": [
    {
     "data": {
      "text/html": [
       "<ol class=list-inline>\n",
       "\t<li>'lan.1.03.sub'</li>\n",
       "\t<li>'lan.0.03.sup'</li>\n",
       "\t<li>'lan.1.02.sup'</li>\n",
       "\t<li>'MAX.1.1.02.sup'</li>\n",
       "\t<li>'MAX.1.2.02.sup'</li>\n",
       "</ol>\n"
      ],
      "text/latex": [
       "\\begin{enumerate*}\n",
       "\\item 'lan.1.03.sub'\n",
       "\\item 'lan.0.03.sup'\n",
       "\\item 'lan.1.02.sup'\n",
       "\\item 'MAX.1.1.02.sup'\n",
       "\\item 'MAX.1.2.02.sup'\n",
       "\\end{enumerate*}\n"
      ],
      "text/markdown": [
       "1. 'lan.1.03.sub'\n",
       "2. 'lan.0.03.sup'\n",
       "3. 'lan.1.02.sup'\n",
       "4. 'MAX.1.1.02.sup'\n",
       "5. 'MAX.1.2.02.sup'\n",
       "\n",
       "\n"
      ],
      "text/plain": [
       "[1] \"lan.1.03.sub\"   \"lan.0.03.sup\"   \"lan.1.02.sup\"   \"MAX.1.1.02.sup\"\n",
       "[5] \"MAX.1.2.02.sup\""
      ]
     },
     "metadata": {},
     "output_type": "display_data"
    },
    {
     "data": {
      "text/html": [
       "<ol class=list-inline>\n",
       "\t<li>0.0167253273503421</li>\n",
       "\t<li>0.0126513451160426</li>\n",
       "\t<li>0.0103247678193282</li>\n",
       "\t<li>0.0146847190127283</li>\n",
       "\t<li>0.018826757960631</li>\n",
       "</ol>\n"
      ],
      "text/latex": [
       "\\begin{enumerate*}\n",
       "\\item 0.0167253273503421\n",
       "\\item 0.0126513451160426\n",
       "\\item 0.0103247678193282\n",
       "\\item 0.0146847190127283\n",
       "\\item 0.018826757960631\n",
       "\\end{enumerate*}\n"
      ],
      "text/markdown": [
       "1. 0.0167253273503421\n",
       "2. 0.0126513451160426\n",
       "3. 0.0103247678193282\n",
       "4. 0.0146847190127283\n",
       "5. 0.018826757960631\n",
       "\n",
       "\n"
      ],
      "text/plain": [
       "[1] 0.01672533 0.01265135 0.01032477 0.01468472 0.01882676"
      ]
     },
     "metadata": {},
     "output_type": "display_data"
    }
   ],
   "source": [
    "variables <- colnames(cells_frame)\n",
    "variables <- variables[seq(2,length(variables))]\n",
    "\n",
    "aux <- c()\n",
    "for (colName in variables){\n",
    "  array1 = cells_frame[cells_frame$type == 'dWL', colName]\n",
    "  array2 = cells_frame[cells_frame$type == 'dWP', colName]\n",
    "  aux <- c(aux, as.numeric(wilcox.test(array1, array2, exact = FALSE)[3]))\n",
    "}\n",
    "variables[aux < 0.02]\n",
    "aux[aux < 0.02]"
   ]
  },
  {
   "cell_type": "markdown",
   "metadata": {},
   "source": [
    "### 257"
   ]
  },
  {
   "cell_type": "code",
   "execution_count": 13,
   "metadata": {},
   "outputs": [],
   "source": [
    "cellNumber <- 257\n",
    "load(paste(\"../2_variables/frames\",as.character(cellNumber), \"cells_frame.RData\", sep=\"/\"))"
   ]
  },
  {
   "cell_type": "code",
   "execution_count": 14,
   "metadata": {
    "scrolled": false
   },
   "outputs": [
    {
     "data": {
      "text/html": [
       "<ol class=list-inline>\n",
       "\t<li>'lan.1.03.sub'</li>\n",
       "\t<li>'lan.0.03.sup'</li>\n",
       "\t<li>'lan.1.02.sup'</li>\n",
       "\t<li>'MAX.1.1.02.sup'</li>\n",
       "\t<li>'MAX.1.2.02.sup'</li>\n",
       "</ol>\n"
      ],
      "text/latex": [
       "\\begin{enumerate*}\n",
       "\\item 'lan.1.03.sub'\n",
       "\\item 'lan.0.03.sup'\n",
       "\\item 'lan.1.02.sup'\n",
       "\\item 'MAX.1.1.02.sup'\n",
       "\\item 'MAX.1.2.02.sup'\n",
       "\\end{enumerate*}\n"
      ],
      "text/markdown": [
       "1. 'lan.1.03.sub'\n",
       "2. 'lan.0.03.sup'\n",
       "3. 'lan.1.02.sup'\n",
       "4. 'MAX.1.1.02.sup'\n",
       "5. 'MAX.1.2.02.sup'\n",
       "\n",
       "\n"
      ],
      "text/plain": [
       "[1] \"lan.1.03.sub\"   \"lan.0.03.sup\"   \"lan.1.02.sup\"   \"MAX.1.1.02.sup\"\n",
       "[5] \"MAX.1.2.02.sup\""
      ]
     },
     "metadata": {},
     "output_type": "display_data"
    },
    {
     "data": {
      "text/html": [
       "<ol class=list-inline>\n",
       "\t<li>0.0135008242273905</li>\n",
       "\t<li>0.0120829673941393</li>\n",
       "\t<li>0.00608692770831907</li>\n",
       "\t<li>0.00597729147864682</li>\n",
       "\t<li>0.00492570233703464</li>\n",
       "</ol>\n"
      ],
      "text/latex": [
       "\\begin{enumerate*}\n",
       "\\item 0.0135008242273905\n",
       "\\item 0.0120829673941393\n",
       "\\item 0.00608692770831907\n",
       "\\item 0.00597729147864682\n",
       "\\item 0.00492570233703464\n",
       "\\end{enumerate*}\n"
      ],
      "text/markdown": [
       "1. 0.0135008242273905\n",
       "2. 0.0120829673941393\n",
       "3. 0.00608692770831907\n",
       "4. 0.00597729147864682\n",
       "5. 0.00492570233703464\n",
       "\n",
       "\n"
      ],
      "text/plain": [
       "[1] 0.013500824 0.012082967 0.006086928 0.005977291 0.004925702"
      ]
     },
     "metadata": {},
     "output_type": "display_data"
    }
   ],
   "source": [
    "variables <- colnames(cells_frame)\n",
    "variables <- variables[seq(2,length(variables))]\n",
    "\n",
    "aux <- c()\n",
    "for (colName in variables){\n",
    "  array1 = cells_frame[cells_frame$type == 'dWL', colName]\n",
    "  array2 = cells_frame[cells_frame$type == 'dWP', colName]\n",
    "  aux <- c(aux, as.numeric(wilcox.test(array1, array2, exact = FALSE)[3]))\n",
    "}\n",
    "variables[aux < 0.014]\n",
    "aux[aux < 0.014]"
   ]
  },
  {
   "cell_type": "code",
   "execution_count": null,
   "metadata": {},
   "outputs": [],
   "source": []
  }
 ],
 "metadata": {
  "kernelspec": {
   "display_name": "R",
   "language": "R",
   "name": "ir"
  },
  "language_info": {
   "codemirror_mode": "r",
   "file_extension": ".r",
   "mimetype": "text/x-r-source",
   "name": "R",
   "pygments_lexer": "r",
   "version": "3.6.1"
  }
 },
 "nbformat": 4,
 "nbformat_minor": 4
}
