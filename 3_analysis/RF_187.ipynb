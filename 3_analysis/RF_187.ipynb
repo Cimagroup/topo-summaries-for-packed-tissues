{
 "cells": [
  {
   "cell_type": "code",
   "execution_count": 1,
   "metadata": {},
   "outputs": [
    {
     "name": "stderr",
     "output_type": "stream",
     "text": [
      "randomForest 4.6-14\n",
      "Type rfNews() to see new features/changes/bug fixes.\n"
     ]
    }
   ],
   "source": [
    "library(\"randomForest\")\n",
    "cellNumber <- 187\n",
    "load(paste(\"../2_variables/frames\",as.character(cellNumber), \"cells_frame.RData\", sep=\"/\"))\n",
    "set.seed(1)\n",
    "drosophila.df <- cells_frame"
   ]
  },
  {
   "cell_type": "markdown",
   "metadata": {},
   "source": [
    "We regroup all natural drosophila tissues as one 'drosophila' type"
   ]
  },
  {
   "cell_type": "code",
   "execution_count": 2,
   "metadata": {},
   "outputs": [],
   "source": [
    "type <- as.vector(cells_frame[,'type'])\n",
    "for (i in seq(length(type))){\n",
    "    if (type[i] == 'dNP' || type[i] == 'dWL' || type[i] == 'dWP'){\n",
    "        type[i] <- 'drosophila'\n",
    "    }\n",
    "} \n",
    "drosophila.df$type <- as.factor(type)"
   ]
  },
  {
   "cell_type": "markdown",
   "metadata": {},
   "source": [
    "## TDA variables"
   ]
  },
  {
   "cell_type": "markdown",
   "metadata": {},
   "source": [
    "And see if we can classify them using all variables:"
   ]
  },
  {
   "cell_type": "code",
   "execution_count": 3,
   "metadata": {},
   "outputs": [],
   "source": [
    "cond <- drosophila.df$type == 'cNT' | drosophila.df$type == 'cEE' | drosophila.df$type == 'drosophila'\n",
    "data.class <- droplevels(drosophila.df[cond,])"
   ]
  },
  {
   "cell_type": "code",
   "execution_count": 4,
   "metadata": {},
   "outputs": [],
   "source": [
    "training.cEE <- c()\n",
    "training.cNT <- c()\n",
    "training.drosophila <- c()\n",
    "training.all <- c()\n",
    "\n",
    "validation.cEE <- c()\n",
    "validation.cNT <- c()\n",
    "validation.drosophila <- c()\n",
    "validation.all <- c()\n",
    "\n",
    "for (i in seq(10000)){\n",
    "    data_set_size <- floor(nrow(data.class)/4*3)\n",
    "\n",
    "    indexes <- sample(1:nrow(data.class), size = data_set_size)\n",
    "\n",
    "    training <- data.class[indexes,]\n",
    "    validation1 <- data.class[-indexes,]\n",
    "\n",
    "    rf <- randomForest(formula = type ~ ., data = training, ntree = 200)\n",
    "    training.cEE <- c(training.cEE, rf$confusion['cEE',4])\n",
    "    training.cNT <- c(training.cNT, rf$confusion['cNT',4])\n",
    "    training.drosophila <- c(training.drosophila, rf$confusion['drosophila',4])\n",
    "    pm <- rf$confusion\n",
    "    training.all <- c(training.all, 1 - (pm[1,1] + pm [2,2] + pm[3,3])/sum(pm))\n",
    "    \n",
    "    prediction_for_table <- predict(rf,validation1[cond,])\n",
    "    pm <- table(observed=validation1[cond,'type'],predicted=prediction_for_table)\n",
    "    validation.cEE <- c(validation.cEE, 1 - pm['cEE', 'cEE']/sum(pm['cEE',]))\n",
    "    validation.cNT <- c(validation.cNT, 1 - pm['cNT', 'cNT']/sum(pm['cNT',]))\n",
    "    validation.drosophila <- c(validation.drosophila, 1 - pm['drosophila', 'drosophila']/sum(pm['drosophila',]))\n",
    "    validation.all <- c(validation.all, 1 - (pm[1,1] + pm [2,2] + pm[3,3])/sum(pm))\n",
    "        \n",
    "    }"
   ]
  },
  {
   "cell_type": "code",
   "execution_count": 5,
   "metadata": {},
   "outputs": [
    {
     "name": "stdout",
     "output_type": "stream",
     "text": [
      "[1] \"cEE error\"\n"
     ]
    },
    {
     "data": {
      "text/html": [
       "0.855199685592186"
      ],
      "text/latex": [
       "0.855199685592186"
      ],
      "text/markdown": [
       "0.855199685592186"
      ],
      "text/plain": [
       "[1] 0.8551997"
      ]
     },
     "metadata": {},
     "output_type": "display_data"
    },
    {
     "name": "stdout",
     "output_type": "stream",
     "text": [
      "[1] \"cNT error\"\n"
     ]
    },
    {
     "data": {
      "text/html": [
       "0.826391101121101"
      ],
      "text/latex": [
       "0.826391101121101"
      ],
      "text/markdown": [
       "0.826391101121101"
      ],
      "text/plain": [
       "[1] 0.8263911"
      ]
     },
     "metadata": {},
     "output_type": "display_data"
    },
    {
     "name": "stdout",
     "output_type": "stream",
     "text": [
      "[1] \"drosophila error\"\n"
     ]
    },
    {
     "data": {
      "text/html": [
       "0.997384516685213"
      ],
      "text/latex": [
       "0.997384516685213"
      ],
      "text/markdown": [
       "0.997384516685213"
      ],
      "text/plain": [
       "[1] 0.9973845"
      ]
     },
     "metadata": {},
     "output_type": "display_data"
    },
    {
     "name": "stdout",
     "output_type": "stream",
     "text": [
      "[1] \"total error\"\n"
     ]
    },
    {
     "data": {
      "text/html": [
       "0.929414566101961"
      ],
      "text/latex": [
       "0.929414566101961"
      ],
      "text/markdown": [
       "0.929414566101961"
      ],
      "text/plain": [
       "[1] 0.9294146"
      ]
     },
     "metadata": {},
     "output_type": "display_data"
    }
   ],
   "source": [
    "print('cEE error')\n",
    "1-mean(training.cEE)\n",
    "print('cNT error')\n",
    "1-mean(training.cNT)\n",
    "print('drosophila error')\n",
    "1-mean(training.drosophila)\n",
    "print('total error')\n",
    "1-mean(training.all)"
   ]
  },
  {
   "cell_type": "code",
   "execution_count": 6,
   "metadata": {},
   "outputs": [
    {
     "name": "stdout",
     "output_type": "stream",
     "text": [
      "[1] \"cEE error\"\n"
     ]
    },
    {
     "data": {
      "text/html": [
       "0.86659876984127"
      ],
      "text/latex": [
       "0.86659876984127"
      ],
      "text/markdown": [
       "0.86659876984127"
      ],
      "text/plain": [
       "[1] 0.8665988"
      ]
     },
     "metadata": {},
     "output_type": "display_data"
    },
    {
     "name": "stdout",
     "output_type": "stream",
     "text": [
      "[1] \"cNT error\"\n"
     ]
    },
    {
     "data": {
      "text/html": [
       "0.830456825396825"
      ],
      "text/latex": [
       "0.830456825396825"
      ],
      "text/markdown": [
       "0.830456825396825"
      ],
      "text/plain": [
       "[1] 0.8304568"
      ]
     },
     "metadata": {},
     "output_type": "display_data"
    },
    {
     "name": "stdout",
     "output_type": "stream",
     "text": [
      "[1] \"drosophila error\"\n"
     ]
    },
    {
     "data": {
      "text/html": [
       "0.99846294982795"
      ],
      "text/latex": [
       "0.99846294982795"
      ],
      "text/markdown": [
       "0.99846294982795"
      ],
      "text/plain": [
       "[1] 0.9984629"
      ]
     },
     "metadata": {},
     "output_type": "display_data"
    },
    {
     "name": "stdout",
     "output_type": "stream",
     "text": [
      "[1] \"global error\"\n"
     ]
    },
    {
     "data": {
      "text/html": [
       "0.934211111111111"
      ],
      "text/latex": [
       "0.934211111111111"
      ],
      "text/markdown": [
       "0.934211111111111"
      ],
      "text/plain": [
       "[1] 0.9342111"
      ]
     },
     "metadata": {},
     "output_type": "display_data"
    }
   ],
   "source": [
    "# In rare cases there are not type of some tissue in the validation, creating a NaN in the sequence. \n",
    "# Since no error is committed in this cases, we change the NaN by 0s\n",
    "validation.cEE[is.nan(validation.cEE)] = 0\n",
    "validation.cNT[is.nan(validation.cNT)] = 0\n",
    "validation.drosophila[is.nan(validation.drosophila)] = 0\n",
    "validation.all[is.nan(validation.all)] = 0\n",
    "\n",
    "print('cEE error')\n",
    "1-mean(validation.cEE)\n",
    "print('cNT error')\n",
    "1-mean(validation.cNT)\n",
    "print('drosophila error')\n",
    "1-mean(validation.drosophila) \n",
    "print('global error')\n",
    "1-mean(validation.all)"
   ]
  },
  {
   "cell_type": "markdown",
   "metadata": {},
   "source": [
    "## Network variables"
   ]
  },
  {
   "cell_type": "code",
   "execution_count": 7,
   "metadata": {},
   "outputs": [],
   "source": [
    "load(paste(\"../2_variables/frames\",as.character(cellNumber), \"network_frame.RData\", sep=\"/\"))\n",
    "network.df <- network_frame"
   ]
  },
  {
   "cell_type": "markdown",
   "metadata": {},
   "source": [
    "We regroup all natural drosophila tissues as one 'drosophila' type"
   ]
  },
  {
   "cell_type": "code",
   "execution_count": 8,
   "metadata": {},
   "outputs": [],
   "source": [
    "type <- as.vector(network_frame[,'type'])\n",
    "for (i in seq(length(type))){\n",
    "    if (type[i] == 'dNP' || type[i] == 'dWL' || type[i] == 'dWP'){\n",
    "        type[i] <- 'drosophila'\n",
    "    }\n",
    "} \n",
    "network.df$type <- as.factor(type)"
   ]
  },
  {
   "cell_type": "code",
   "execution_count": 9,
   "metadata": {},
   "outputs": [],
   "source": [
    "cond <- network.df$type == 'cNT' | network.df$type == 'cEE' | network.df$type == 'drosophila'\n",
    "data.class <- droplevels(network.df[cond,])"
   ]
  },
  {
   "cell_type": "code",
   "execution_count": 10,
   "metadata": {},
   "outputs": [],
   "source": [
    "training.cEE <- c()\n",
    "training.cNT <- c()\n",
    "training.drosophila <- c()\n",
    "training.all <- c()\n",
    "\n",
    "validation.cEE <- c()\n",
    "validation.cNT <- c()\n",
    "validation.drosophila <- c()\n",
    "validation.all <- c()\n",
    "\n",
    "for (i in seq(10000)){\n",
    "    data_set_size <- floor(nrow(data.class)/4*3)\n",
    "\n",
    "    indexes <- sample(1:nrow(data.class), size = data_set_size)\n",
    "\n",
    "    training <- data.class[indexes,]\n",
    "    validation1 <- data.class[-indexes,]\n",
    "\n",
    "    rf <- randomForest(formula = type ~ ., data = training, ntree = 200)\n",
    "    training.cEE <- c(training.cEE, rf$confusion['cEE',4])\n",
    "    training.cNT <- c(training.cNT, rf$confusion['cNT',4])\n",
    "    training.drosophila <- c(training.drosophila, rf$confusion['drosophila',4])\n",
    "    pm <- rf$confusion\n",
    "    training.all <- c(training.all, 1 - (pm[1,1] + pm [2,2] + pm[3,3])/sum(pm))\n",
    "    \n",
    "    prediction_for_table <- predict(rf,validation1[cond,])\n",
    "    pm <- table(observed=validation1[cond,'type'],predicted=prediction_for_table)\n",
    "    validation.cEE <- c(validation.cEE, 1 - pm['cEE', 'cEE']/sum(pm['cEE',]))\n",
    "    validation.cNT <- c(validation.cNT, 1 - pm['cNT', 'cNT']/sum(pm['cNT',]))\n",
    "    validation.drosophila <- c(validation.drosophila, 1 - pm['drosophila', 'drosophila']/sum(pm['drosophila',]))\n",
    "    validation.all <- c(validation.all, 1 - (pm[1,1] + pm [2,2] + pm[3,3])/sum(pm))\n",
    "        \n",
    "    }"
   ]
  },
  {
   "cell_type": "code",
   "execution_count": 11,
   "metadata": {},
   "outputs": [
    {
     "name": "stdout",
     "output_type": "stream",
     "text": [
      "[1] \"cEE error\"\n"
     ]
    },
    {
     "data": {
      "text/html": [
       "0.862311782939283"
      ],
      "text/latex": [
       "0.862311782939283"
      ],
      "text/markdown": [
       "0.862311782939283"
      ],
      "text/plain": [
       "[1] 0.8623118"
      ]
     },
     "metadata": {},
     "output_type": "display_data"
    },
    {
     "name": "stdout",
     "output_type": "stream",
     "text": [
      "[1] \"cNT error\"\n"
     ]
    },
    {
     "data": {
      "text/html": [
       "0.934121239316239"
      ],
      "text/latex": [
       "0.934121239316239"
      ],
      "text/markdown": [
       "0.934121239316239"
      ],
      "text/plain": [
       "[1] 0.9341212"
      ]
     },
     "metadata": {},
     "output_type": "display_data"
    },
    {
     "name": "stdout",
     "output_type": "stream",
     "text": [
      "[1] \"drosophila error\"\n"
     ]
    },
    {
     "data": {
      "text/html": [
       "1"
      ],
      "text/latex": [
       "1"
      ],
      "text/markdown": [
       "1"
      ],
      "text/plain": [
       "[1] 1"
      ]
     },
     "metadata": {},
     "output_type": "display_data"
    },
    {
     "name": "stdout",
     "output_type": "stream",
     "text": [
      "[1] \"global error\"\n"
     ]
    },
    {
     "data": {
      "text/html": [
       "0.957583245333485"
      ],
      "text/latex": [
       "0.957583245333485"
      ],
      "text/markdown": [
       "0.957583245333485"
      ],
      "text/plain": [
       "[1] 0.9575832"
      ]
     },
     "metadata": {},
     "output_type": "display_data"
    }
   ],
   "source": [
    "print('cEE error')\n",
    "1-mean(training.cEE)\n",
    "print('cNT error')\n",
    "1-mean(training.cNT)\n",
    "print('drosophila error')\n",
    "1-mean(training.drosophila)\n",
    "print('global error')\n",
    "1-mean(training.all)"
   ]
  },
  {
   "cell_type": "code",
   "execution_count": 12,
   "metadata": {
    "scrolled": true
   },
   "outputs": [
    {
     "name": "stdout",
     "output_type": "stream",
     "text": [
      "[1] \"cEE error\"\n"
     ]
    },
    {
     "data": {
      "text/html": [
       "0.87751880952381"
      ],
      "text/latex": [
       "0.87751880952381"
      ],
      "text/markdown": [
       "0.87751880952381"
      ],
      "text/plain": [
       "[1] 0.8775188"
      ]
     },
     "metadata": {},
     "output_type": "display_data"
    },
    {
     "name": "stdout",
     "output_type": "stream",
     "text": [
      "[1] \"cNT error\"\n"
     ]
    },
    {
     "data": {
      "text/html": [
       "0.936522777777778"
      ],
      "text/latex": [
       "0.936522777777778"
      ],
      "text/markdown": [
       "0.936522777777778"
      ],
      "text/plain": [
       "[1] 0.9365228"
      ]
     },
     "metadata": {},
     "output_type": "display_data"
    },
    {
     "name": "stdout",
     "output_type": "stream",
     "text": [
      "[1] \"drosophila error\"\n"
     ]
    },
    {
     "data": {
      "text/html": [
       "1"
      ],
      "text/latex": [
       "1"
      ],
      "text/markdown": [
       "1"
      ],
      "text/plain": [
       "[1] 1"
      ]
     },
     "metadata": {},
     "output_type": "display_data"
    },
    {
     "name": "stdout",
     "output_type": "stream",
     "text": [
      "[1] \"global error\"\n"
     ]
    },
    {
     "data": {
      "text/html": [
       "0.961611111111111"
      ],
      "text/latex": [
       "0.961611111111111"
      ],
      "text/markdown": [
       "0.961611111111111"
      ],
      "text/plain": [
       "[1] 0.9616111"
      ]
     },
     "metadata": {},
     "output_type": "display_data"
    }
   ],
   "source": [
    "# In rare cases there are not type of some tissue in the validation, creating a NaN in the sequence. \n",
    "# Since no error is committed in this cases, we change the NaN by 0s\n",
    "validation.cEE[is.nan(validation.cEE)] = 0\n",
    "validation.cNT[is.nan(validation.cNT)] = 0\n",
    "validation.drosophila[is.nan(validation.drosophila)] = 0\n",
    "validation.all[is.nan(validation.all)] = 0\n",
    "\n",
    "print('cEE error')\n",
    "1-mean(validation.cEE)\n",
    "print('cNT error')\n",
    "1-mean(validation.cNT)\n",
    "print('drosophila error')\n",
    "1-mean(validation.drosophila) \n",
    "print('global error')\n",
    "1-mean(validation.all)"
   ]
  },
  {
   "cell_type": "markdown",
   "metadata": {},
   "source": [
    "## Mean and Variance"
   ]
  },
  {
   "cell_type": "code",
   "execution_count": 13,
   "metadata": {},
   "outputs": [],
   "source": [
    "training.cEE <- c()\n",
    "training.cNT <- c()\n",
    "training.drosophila <- c()\n",
    "training.all <- c()\n",
    "\n",
    "validation.cEE <- c()\n",
    "validation.cNT <- c()\n",
    "validation.drosophila <- c()\n",
    "validation.all <- c()\n",
    "\n",
    "for (i in seq(10000)){\n",
    "    data_set_size <- floor(nrow(data.class)/4*3)\n",
    "\n",
    "    indexes <- sample(1:nrow(data.class), size = data_set_size)\n",
    "\n",
    "    training <- data.class[indexes,]\n",
    "    validation1 <- data.class[-indexes,]\n",
    "\n",
    "    rf <- randomForest(formula = type ~ mean_degree + var_degree, data = training, ntree = 200)\n",
    "    training.cEE <- c(training.cEE, rf$confusion['cEE',4])\n",
    "    training.cNT <- c(training.cNT, rf$confusion['cNT',4])\n",
    "    training.drosophila <- c(training.drosophila, rf$confusion['drosophila',4])\n",
    "    pm <- rf$confusion\n",
    "    training.all <- c(training.all, 1 - (pm[1,1] + pm [2,2] + pm[3,3])/sum(pm))\n",
    "    \n",
    "    prediction_for_table <- predict(rf,validation1[cond,])\n",
    "    pm <- table(observed=validation1[cond,'type'],predicted=prediction_for_table)\n",
    "    validation.cEE <- c(validation.cEE, 1 - pm['cEE', 'cEE']/sum(pm['cEE',]))\n",
    "    validation.cNT <- c(validation.cNT, 1 - pm['cNT', 'cNT']/sum(pm['cNT',]))\n",
    "    validation.drosophila <- c(validation.drosophila, 1 - pm['drosophila', 'drosophila']/sum(pm['drosophila',]))\n",
    "    validation.all <- c(validation.all, 1 - (pm[1,1] + pm [2,2] + pm[3,3])/sum(pm))\n",
    "        \n",
    "    }"
   ]
  },
  {
   "cell_type": "code",
   "execution_count": 14,
   "metadata": {},
   "outputs": [
    {
     "name": "stdout",
     "output_type": "stream",
     "text": [
      "[1] \"cEE error\"\n"
     ]
    },
    {
     "data": {
      "text/html": [
       "0.896654951992452"
      ],
      "text/latex": [
       "0.896654951992452"
      ],
      "text/markdown": [
       "0.896654951992452"
      ],
      "text/plain": [
       "[1] 0.896655"
      ]
     },
     "metadata": {},
     "output_type": "display_data"
    },
    {
     "name": "stdout",
     "output_type": "stream",
     "text": [
      "[1] \"cNT error\"\n"
     ]
    },
    {
     "data": {
      "text/html": [
       "0.891596759213009"
      ],
      "text/latex": [
       "0.891596759213009"
      ],
      "text/markdown": [
       "0.891596759213009"
      ],
      "text/plain": [
       "[1] 0.8915968"
      ]
     },
     "metadata": {},
     "output_type": "display_data"
    },
    {
     "name": "stdout",
     "output_type": "stream",
     "text": [
      "[1] \"drosophila error\"\n"
     ]
    },
    {
     "data": {
      "text/html": [
       "0.999718156460658"
      ],
      "text/latex": [
       "0.999718156460658"
      ],
      "text/markdown": [
       "0.999718156460658"
      ],
      "text/plain": [
       "[1] 0.9997182"
      ]
     },
     "metadata": {},
     "output_type": "display_data"
    },
    {
     "name": "stdout",
     "output_type": "stream",
     "text": [
      "[1] \"total error\"\n"
     ]
    },
    {
     "data": {
      "text/html": [
       "0.955201834125643"
      ],
      "text/latex": [
       "0.955201834125643"
      ],
      "text/markdown": [
       "0.955201834125643"
      ],
      "text/plain": [
       "[1] 0.9552018"
      ]
     },
     "metadata": {},
     "output_type": "display_data"
    }
   ],
   "source": [
    "print('cEE error')\n",
    "1-mean(training.cEE)\n",
    "print('cNT error')\n",
    "1-mean(training.cNT)\n",
    "print('drosophila error')\n",
    "1-mean(training.drosophila)\n",
    "print('total error')\n",
    "1-mean(training.all)"
   ]
  },
  {
   "cell_type": "code",
   "execution_count": 15,
   "metadata": {
    "scrolled": true
   },
   "outputs": [
    {
     "name": "stdout",
     "output_type": "stream",
     "text": [
      "[1] \"cEE error\"\n"
     ]
    },
    {
     "data": {
      "text/html": [
       "0.942787420634921"
      ],
      "text/latex": [
       "0.942787420634921"
      ],
      "text/markdown": [
       "0.942787420634921"
      ],
      "text/plain": [
       "[1] 0.9427874"
      ]
     },
     "metadata": {},
     "output_type": "display_data"
    },
    {
     "name": "stdout",
     "output_type": "stream",
     "text": [
      "[1] \"cNT error\"\n"
     ]
    },
    {
     "data": {
      "text/html": [
       "0.897316507936508"
      ],
      "text/latex": [
       "0.897316507936508"
      ],
      "text/markdown": [
       "0.897316507936508"
      ],
      "text/plain": [
       "[1] 0.8973165"
      ]
     },
     "metadata": {},
     "output_type": "display_data"
    },
    {
     "name": "stdout",
     "output_type": "stream",
     "text": [
      "[1] \"drosophila error\"\n"
     ]
    },
    {
     "data": {
      "text/html": [
       "0.999955512265512"
      ],
      "text/latex": [
       "0.999955512265512"
      ],
      "text/markdown": [
       "0.999955512265512"
      ],
      "text/plain": [
       "[1] 0.9999555"
      ]
     },
     "metadata": {},
     "output_type": "display_data"
    },
    {
     "name": "stdout",
     "output_type": "stream",
     "text": [
      "[1] \"global error\"\n"
     ]
    },
    {
     "data": {
      "text/html": [
       "0.962316666666667"
      ],
      "text/latex": [
       "0.962316666666667"
      ],
      "text/markdown": [
       "0.962316666666667"
      ],
      "text/plain": [
       "[1] 0.9623167"
      ]
     },
     "metadata": {},
     "output_type": "display_data"
    }
   ],
   "source": [
    "# In rare cases there are not type of some tissue in the validation, creating a NaN in the sequence. \n",
    "# Since no error is committed in this cases, we change the NaN by 0s\n",
    "validation.cEE[is.nan(validation.cEE)] = 0\n",
    "validation.cNT[is.nan(validation.cNT)] = 0\n",
    "validation.drosophila[is.nan(validation.drosophila)] = 0\n",
    "validation.all[is.nan(validation.all)] = 0\n",
    "\n",
    "print('cEE error')\n",
    "1-mean(validation.cEE)\n",
    "print('cNT error')\n",
    "1-mean(validation.cNT)\n",
    "print('drosophila error')\n",
    "1-mean(validation.drosophila) \n",
    "print('global error')\n",
    "1-mean(validation.all)"
   ]
  },
  {
   "cell_type": "markdown",
   "metadata": {},
   "source": [
    "## Mixed variables"
   ]
  },
  {
   "cell_type": "code",
   "execution_count": 16,
   "metadata": {},
   "outputs": [],
   "source": [
    "mix_frame <- cbind(network_frame, cells_frame[,seq(2,length(cells_frame))])\n",
    "mix.df <- mix_frame"
   ]
  },
  {
   "cell_type": "code",
   "execution_count": 17,
   "metadata": {},
   "outputs": [],
   "source": [
    "type <- as.vector(mix_frame[,'type'])\n",
    "for (i in seq(length(type))){\n",
    "    if (type[i] == 'dNP' || type[i] == 'dWL' || type[i] == 'dWP'){\n",
    "        type[i] <- 'drosophila'\n",
    "    }\n",
    "} \n",
    "mix.df$type <- as.factor(type)"
   ]
  },
  {
   "cell_type": "code",
   "execution_count": 18,
   "metadata": {},
   "outputs": [],
   "source": [
    "cond <- mix.df$type == 'cNT' | mix.df$type == 'cEE' | mix.df$type == 'drosophila'\n",
    "data.class <- droplevels(mix.df[cond,])"
   ]
  },
  {
   "cell_type": "code",
   "execution_count": 19,
   "metadata": {},
   "outputs": [],
   "source": [
    "training.cEE <- c()\n",
    "training.cNT <- c()\n",
    "training.drosophila <- c()\n",
    "training.all <- c()\n",
    "\n",
    "validation.cEE <- c()\n",
    "validation.cNT <- c()\n",
    "validation.drosophila <- c()\n",
    "validation.all <- c()\n",
    "\n",
    "for (i in seq(10000)){\n",
    "    data_set_size <- floor(nrow(data.class)/4*3)\n",
    "\n",
    "    indexes <- sample(1:nrow(data.class), size = data_set_size)\n",
    "\n",
    "    training <- data.class[indexes,]\n",
    "    validation1 <- data.class[-indexes,]\n",
    "\n",
    "    rf <- randomForest(formula = type ~ ., data = training, ntree = 200)\n",
    "    training.cEE <- c(training.cEE, rf$confusion['cEE',4])\n",
    "    training.cNT <- c(training.cNT, rf$confusion['cNT',4])\n",
    "    training.drosophila <- c(training.drosophila, rf$confusion['drosophila',4])\n",
    "    pm <- rf$confusion\n",
    "    training.all <- c(training.all, 1 - (pm[1,1] + pm [2,2] + pm[3,3])/sum(pm))\n",
    "    \n",
    "    prediction_for_table <- predict(rf,validation1[cond,])\n",
    "    pm <- table(observed=validation1[cond,'type'],predicted=prediction_for_table)\n",
    "    validation.cEE <- c(validation.cEE, 1 - pm['cEE', 'cEE']/sum(pm['cEE',]))\n",
    "    validation.cNT <- c(validation.cNT, 1 - pm['cNT', 'cNT']/sum(pm['cNT',]))\n",
    "    validation.drosophila <- c(validation.drosophila, 1 - pm['drosophila', 'drosophila']/sum(pm['drosophila',]))\n",
    "    validation.all <- c(validation.all, 1 - (pm[1,1] + pm [2,2] + pm[3,3])/sum(pm))\n",
    "        \n",
    "    }"
   ]
  },
  {
   "cell_type": "code",
   "execution_count": 20,
   "metadata": {},
   "outputs": [
    {
     "name": "stdout",
     "output_type": "stream",
     "text": [
      "[1] \"cEE acc\"\n"
     ]
    },
    {
     "data": {
      "text/html": [
       "0.861216319513819"
      ],
      "text/latex": [
       "0.861216319513819"
      ],
      "text/markdown": [
       "0.861216319513819"
      ],
      "text/plain": [
       "[1] 0.8612163"
      ]
     },
     "metadata": {},
     "output_type": "display_data"
    },
    {
     "name": "stdout",
     "output_type": "stream",
     "text": [
      "[1] \"cNT acc\"\n"
     ]
    },
    {
     "data": {
      "text/html": [
       "0.921981626567877"
      ],
      "text/latex": [
       "0.921981626567877"
      ],
      "text/markdown": [
       "0.921981626567877"
      ],
      "text/plain": [
       "[1] 0.9219816"
      ]
     },
     "metadata": {},
     "output_type": "display_data"
    },
    {
     "name": "stdout",
     "output_type": "stream",
     "text": [
      "[1] \"drosophila acc\"\n"
     ]
    },
    {
     "data": {
      "text/html": [
       "0.99999696969697"
      ],
      "text/latex": [
       "0.99999696969697"
      ],
      "text/markdown": [
       "0.99999696969697"
      ],
      "text/plain": [
       "[1] 0.999997"
      ]
     },
     "metadata": {},
     "output_type": "display_data"
    },
    {
     "name": "stdout",
     "output_type": "stream",
     "text": [
      "[1] \"global acc\"\n"
     ]
    },
    {
     "data": {
      "text/html": [
       "0.954748776649159"
      ],
      "text/latex": [
       "0.954748776649159"
      ],
      "text/markdown": [
       "0.954748776649159"
      ],
      "text/plain": [
       "[1] 0.9547488"
      ]
     },
     "metadata": {},
     "output_type": "display_data"
    }
   ],
   "source": [
    "print('cEE acc')\n",
    "1-mean(training.cEE)\n",
    "print('cNT acc')\n",
    "1-mean(training.cNT)\n",
    "print('drosophila acc')\n",
    "1-mean(training.drosophila)\n",
    "print('global acc')\n",
    "1-mean(training.all)"
   ]
  },
  {
   "cell_type": "code",
   "execution_count": 21,
   "metadata": {
    "scrolled": true
   },
   "outputs": [
    {
     "name": "stdout",
     "output_type": "stream",
     "text": [
      "[1] \"cEE acc\"\n"
     ]
    },
    {
     "data": {
      "text/html": [
       "0.878481904761905"
      ],
      "text/latex": [
       "0.878481904761905"
      ],
      "text/markdown": [
       "0.878481904761905"
      ],
      "text/plain": [
       "[1] 0.8784819"
      ]
     },
     "metadata": {},
     "output_type": "display_data"
    },
    {
     "name": "stdout",
     "output_type": "stream",
     "text": [
      "[1] \"cNT acc\"\n"
     ]
    },
    {
     "data": {
      "text/html": [
       "0.928830119047619"
      ],
      "text/latex": [
       "0.928830119047619"
      ],
      "text/markdown": [
       "0.928830119047619"
      ],
      "text/plain": [
       "[1] 0.9288301"
      ]
     },
     "metadata": {},
     "output_type": "display_data"
    },
    {
     "name": "stdout",
     "output_type": "stream",
     "text": [
      "[1] \"drosophila acc\"\n"
     ]
    },
    {
     "data": {
      "text/html": [
       "1"
      ],
      "text/latex": [
       "1"
      ],
      "text/markdown": [
       "1"
      ],
      "text/plain": [
       "[1] 1"
      ]
     },
     "metadata": {},
     "output_type": "display_data"
    },
    {
     "name": "stdout",
     "output_type": "stream",
     "text": [
      "[1] \"global acc\"\n"
     ]
    },
    {
     "data": {
      "text/html": [
       "0.959416666666667"
      ],
      "text/latex": [
       "0.959416666666667"
      ],
      "text/markdown": [
       "0.959416666666667"
      ],
      "text/plain": [
       "[1] 0.9594167"
      ]
     },
     "metadata": {},
     "output_type": "display_data"
    }
   ],
   "source": [
    "# In rare cases there are not type of some tissue in the validation, creating a NaN in the sequence. \n",
    "# Since no error is committed in this cases, we change the NaN by 0s\n",
    "validation.cEE[is.nan(validation.cEE)] = 0\n",
    "validation.cNT[is.nan(validation.cNT)] = 0\n",
    "validation.drosophila[is.nan(validation.drosophila)] = 0\n",
    "validation.all[is.nan(validation.all)] = 0\n",
    "\n",
    "print('cEE acc')\n",
    "1-mean(validation.cEE)\n",
    "print('cNT acc')\n",
    "1-mean(validation.cNT)\n",
    "print('drosophila acc')\n",
    "1-mean(validation.drosophila) \n",
    "print('global acc')\n",
    "1-mean(validation.all)"
   ]
  },
  {
   "cell_type": "markdown",
   "metadata": {},
   "source": [
    "## Mean + Var + lan"
   ]
  },
  {
   "cell_type": "code",
   "execution_count": 22,
   "metadata": {},
   "outputs": [],
   "source": [
    "mix_frame <- cbind(network_frame, cells_frame[,seq(2,length(cells_frame))])\n",
    "#mix_frame <- cbind(network_frame, cells_frame[,c('PE.0.sup', 'lan.1.05.sub', 'lan.1.02.sup')])\n",
    "mix.df <- mix_frame"
   ]
  },
  {
   "cell_type": "code",
   "execution_count": 23,
   "metadata": {},
   "outputs": [],
   "source": [
    "type <- as.vector(mix_frame[,'type'])\n",
    "for (i in seq(length(type))){\n",
    "    if (type[i] == 'dNP' || type[i] == 'dWL' || type[i] == 'dWP'){\n",
    "        type[i] <- 'drosophila'\n",
    "    }\n",
    "} \n",
    "mix.df$type <- as.factor(type)"
   ]
  },
  {
   "cell_type": "code",
   "execution_count": 24,
   "metadata": {},
   "outputs": [],
   "source": [
    "cond <- mix.df$type == 'cNT' | mix.df$type == 'cEE' | mix.df$type == 'drosophila'\n",
    "data.class <- droplevels(mix.df[cond,])"
   ]
  },
  {
   "cell_type": "code",
   "execution_count": 25,
   "metadata": {},
   "outputs": [],
   "source": [
    "training.cEE <- c()\n",
    "training.cNT <- c()\n",
    "training.drosophila <- c()\n",
    "training.all <- c()\n",
    "\n",
    "validation.cEE <- c()\n",
    "validation.cNT <- c()\n",
    "validation.drosophila <- c()\n",
    "validation.all <- c()\n",
    "\n",
    "for (i in seq(10000)){\n",
    "    data_set_size <- floor(nrow(data.class)/4*3)\n",
    "\n",
    "    indexes <- sample(1:nrow(data.class), size = data_set_size)\n",
    "\n",
    "    training <- data.class[indexes,]\n",
    "    validation1 <- data.class[-indexes,]\n",
    "\n",
    "    rf <- randomForest(formula = type ~  mean_degree + var_degree + lan.0.10.sub, \n",
    "                       data = training, ntree = 200)\n",
    "    training.cEE <- c(training.cEE, rf$confusion['cEE',4])\n",
    "    training.cNT <- c(training.cNT, rf$confusion['cNT',4])\n",
    "    training.drosophila <- c(training.drosophila, rf$confusion['drosophila',4])\n",
    "    pm <- rf$confusion\n",
    "    training.all <- c(training.all, 1 - (pm[1,1] + pm [2,2] + pm[3,3])/sum(pm))\n",
    "    \n",
    "    prediction_for_table <- predict(rf,validation1[cond,])\n",
    "    pm <- table(observed=validation1[cond,'type'],predicted=prediction_for_table)\n",
    "    validation.cEE <- c(validation.cEE, 1 - pm['cEE', 'cEE']/sum(pm['cEE',]))\n",
    "    validation.cNT <- c(validation.cNT, 1 - pm['cNT', 'cNT']/sum(pm['cNT',]))\n",
    "    validation.drosophila <- c(validation.drosophila, 1 - pm['drosophila', 'drosophila']/sum(pm['drosophila',]))\n",
    "    validation.all <- c(validation.all, 1 - (pm[1,1] + pm [2,2] + pm[3,3])/sum(pm))  \n",
    "    }"
   ]
  },
  {
   "cell_type": "code",
   "execution_count": 26,
   "metadata": {},
   "outputs": [
    {
     "name": "stdout",
     "output_type": "stream",
     "text": [
      "[1] \"cEE acc\"\n"
     ]
    },
    {
     "data": {
      "text/html": [
       "0.970552875180375"
      ],
      "text/latex": [
       "0.970552875180375"
      ],
      "text/markdown": [
       "0.970552875180375"
      ],
      "text/plain": [
       "[1] 0.9705529"
      ]
     },
     "metadata": {},
     "output_type": "display_data"
    },
    {
     "name": "stdout",
     "output_type": "stream",
     "text": [
      "[1] \"cNT acc\"\n"
     ]
    },
    {
     "data": {
      "text/html": [
       "0.962358402847153"
      ],
      "text/latex": [
       "0.962358402847153"
      ],
      "text/markdown": [
       "0.962358402847153"
      ],
      "text/plain": [
       "[1] 0.9623584"
      ]
     },
     "metadata": {},
     "output_type": "display_data"
    },
    {
     "name": "stdout",
     "output_type": "stream",
     "text": [
      "[1] \"drosophila acc\"\n"
     ]
    },
    {
     "data": {
      "text/html": [
       "0.999966046644953"
      ],
      "text/latex": [
       "0.999966046644953"
      ],
      "text/markdown": [
       "0.999966046644953"
      ],
      "text/plain": [
       "[1] 0.999966"
      ]
     },
     "metadata": {},
     "output_type": "display_data"
    },
    {
     "name": "stdout",
     "output_type": "stream",
     "text": [
      "[1] \"global acc\"\n"
     ]
    },
    {
     "data": {
      "text/html": [
       "0.986253123279016"
      ],
      "text/latex": [
       "0.986253123279016"
      ],
      "text/markdown": [
       "0.986253123279016"
      ],
      "text/plain": [
       "[1] 0.9862531"
      ]
     },
     "metadata": {},
     "output_type": "display_data"
    }
   ],
   "source": [
    "print('cEE acc')\n",
    "1-mean(training.cEE)\n",
    "print('cNT acc')\n",
    "1-mean(training.cNT)\n",
    "print('drosophila acc')\n",
    "1-mean(training.drosophila)\n",
    "print('global acc')\n",
    "1-mean(training.all)"
   ]
  },
  {
   "cell_type": "code",
   "execution_count": 27,
   "metadata": {},
   "outputs": [
    {
     "name": "stdout",
     "output_type": "stream",
     "text": [
      "[1] \"cEE acc\"\n"
     ]
    },
    {
     "data": {
      "text/html": [
       "0.987303809523809"
      ],
      "text/latex": [
       "0.987303809523809"
      ],
      "text/markdown": [
       "0.987303809523809"
      ],
      "text/plain": [
       "[1] 0.9873038"
      ]
     },
     "metadata": {},
     "output_type": "display_data"
    },
    {
     "name": "stdout",
     "output_type": "stream",
     "text": [
      "[1] \"cNT acc\"\n"
     ]
    },
    {
     "data": {
      "text/html": [
       "0.976782063492064"
      ],
      "text/latex": [
       "0.976782063492064"
      ],
      "text/markdown": [
       "0.976782063492064"
      ],
      "text/plain": [
       "[1] 0.9767821"
      ]
     },
     "metadata": {},
     "output_type": "display_data"
    },
    {
     "name": "stdout",
     "output_type": "stream",
     "text": [
      "[1] \"drosophila acc\"\n"
     ]
    },
    {
     "data": {
      "text/html": [
       "1"
      ],
      "text/latex": [
       "1"
      ],
      "text/markdown": [
       "1"
      ],
      "text/plain": [
       "[1] 1"
      ]
     },
     "metadata": {},
     "output_type": "display_data"
    },
    {
     "name": "stdout",
     "output_type": "stream",
     "text": [
      "[1] \"global acc\"\n"
     ]
    },
    {
     "data": {
      "text/html": [
       "0.990311111111111"
      ],
      "text/latex": [
       "0.990311111111111"
      ],
      "text/markdown": [
       "0.990311111111111"
      ],
      "text/plain": [
       "[1] 0.9903111"
      ]
     },
     "metadata": {},
     "output_type": "display_data"
    }
   ],
   "source": [
    "# In rare cases there are not type of some tissue in the validation, creating a NaN in the sequence. \n",
    "# Since no error is committed in this cases, we change the NaN by 0s\n",
    "validation.cEE[is.nan(validation.cEE)] = 0\n",
    "validation.cNT[is.nan(validation.cNT)] = 0\n",
    "validation.drosophila[is.nan(validation.drosophila)] = 0\n",
    "validation.all[is.nan(validation.all)] = 0\n",
    "\n",
    "print('cEE acc')\n",
    "1-mean(validation.cEE)\n",
    "print('cNT acc')\n",
    "1-mean(validation.cNT)\n",
    "print('drosophila acc')\n",
    "1-mean(validation.drosophila) \n",
    "print('global acc')\n",
    "1-mean(validation.all)"
   ]
  },
  {
   "cell_type": "code",
   "execution_count": null,
   "metadata": {},
   "outputs": [],
   "source": []
  }
 ],
 "metadata": {
  "kernelspec": {
   "display_name": "R",
   "language": "R",
   "name": "ir"
  },
  "language_info": {
   "codemirror_mode": "r",
   "file_extension": ".r",
   "mimetype": "text/x-r-source",
   "name": "R",
   "pygments_lexer": "r",
   "version": "3.6.1"
  }
 },
 "nbformat": 4,
 "nbformat_minor": 4
}
